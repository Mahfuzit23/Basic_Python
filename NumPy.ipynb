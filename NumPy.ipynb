{
 "cells": [
  {
   "cell_type": "code",
   "execution_count": 1,
   "metadata": {},
   "outputs": [
    {
     "name": "stdout",
     "output_type": "stream",
     "text": [
      "array: [10 20 30 40 50]\n",
      "size: 5\n",
      "datatype: int32\n",
      "dimension: 1\n",
      "shape: (5,)\n"
     ]
    }
   ],
   "source": [
    "import numpy as np\n",
    "\n",
    "my_list = [10,20,30,40,50]\n",
    "arr = np.array(my_list)\n",
    "\n",
    "print(\"array:\",arr)\n",
    "print(\"size:\",arr.size)\n",
    "print(\"datatype:\",arr.dtype)\n",
    "print(\"dimension:\",arr.ndim)\n",
    "print(\"shape:\",arr.shape)"
   ]
  },
  {
   "cell_type": "code",
   "execution_count": 2,
   "metadata": {},
   "outputs": [
    {
     "name": "stdout",
     "output_type": "stream",
     "text": [
      "[[10 20 30]\n",
      " [40 50 60]\n",
      " [70 80 90]]\n",
      "size: 9\n",
      "datatype: int32\n",
      "dimension: 2\n",
      "shape: (3, 3)\n"
     ]
    }
   ],
   "source": [
    "my_list = [10,20,30],[40,50,60],[70,80,90]\n",
    "matrix = np.array(my_list)\n",
    "\n",
    "print(matrix)\n",
    "\n",
    "print(\"size:\",matrix.size)\n",
    "print(\"datatype:\",matrix.dtype)\n",
    "print(\"dimension:\",matrix.ndim)\n",
    "print(\"shape:\",matrix.shape)"
   ]
  },
  {
   "cell_type": "code",
   "execution_count": 3,
   "metadata": {},
   "outputs": [
    {
     "name": "stdout",
     "output_type": "stream",
     "text": [
      "elements:\n",
      "10\n",
      "20\n",
      "30\n",
      "40\n",
      "50\n"
     ]
    }
   ],
   "source": [
    "my_list = [10,20,30,40,50]\n",
    "arr = np.array(my_list)\n",
    "print(\"elements:\")\n",
    "for ele in arr:\n",
    "    print(ele)\n",
    "    \n"
   ]
  },
  {
   "cell_type": "code",
   "execution_count": 4,
   "metadata": {},
   "outputs": [
    {
     "name": "stdout",
     "output_type": "stream",
     "text": [
      "elements:\n",
      "[[10 20 30]\n",
      " [40 50 60]\n",
      " [70 80 90]]\n"
     ]
    }
   ],
   "source": [
    "my_list = [10,20,30,],[40,50,60],[70,80,90]\n",
    "matrix = np.array(my_list)\n",
    "print(\"elements:\")\n",
    "print(matrix)"
   ]
  },
  {
   "cell_type": "code",
   "execution_count": 5,
   "metadata": {},
   "outputs": [
    {
     "name": "stdout",
     "output_type": "stream",
     "text": [
      "10 20 30 \n",
      "40 50 60 \n",
      "70 80 90 \n"
     ]
    }
   ],
   "source": [
    "for row in matrix:\n",
    "    for ele in row:\n",
    "        print(ele,end=\" \")\n",
    "    print()"
   ]
  },
  {
   "cell_type": "code",
   "execution_count": 6,
   "metadata": {},
   "outputs": [
    {
     "name": "stdout",
     "output_type": "stream",
     "text": [
      "[10 20 30]\n",
      "[40 50 60]\n",
      "[70 80 90]\n"
     ]
    }
   ],
   "source": [
    "for row in matrix:\n",
    "    print(row)"
   ]
  },
  {
   "cell_type": "code",
   "execution_count": 7,
   "metadata": {},
   "outputs": [
    {
     "name": "stdout",
     "output_type": "stream",
     "text": [
      "[[10 20 30]\n",
      " [40 50 60]\n",
      " [70 80 90]]\n"
     ]
    }
   ],
   "source": [
    "my_list = [10,20,30,],[40,50,60],[70,80,90]\n",
    "matrix = np.array(my_list)\n",
    "res = matrix[ : , : ]\n",
    "print(res)"
   ]
  },
  {
   "cell_type": "code",
   "execution_count": 8,
   "metadata": {},
   "outputs": [
    {
     "name": "stdout",
     "output_type": "stream",
     "text": [
      "[[10 20 30]\n",
      " [40 50 60]\n",
      " [70 80 90]]\n"
     ]
    }
   ],
   "source": [
    "res = matrix[0:3,0:3]\n",
    "print(res)"
   ]
  },
  {
   "cell_type": "code",
   "execution_count": 9,
   "metadata": {},
   "outputs": [
    {
     "name": "stdout",
     "output_type": "stream",
     "text": [
      "enter size:3\n",
      "enter 3 elements:\n",
      "4\n",
      "4\n",
      "5\n",
      "array elements: [4 4 5]\n"
     ]
    }
   ],
   "source": [
    "# creating one dimensional array\n",
    "import numpy as np\n",
    "n = int(input(\"enter size:\"))\n",
    "arr = np.ndarray(shape=(n),dtype= int)\n",
    "print(\"enter %d elements:\" %n)\n",
    "for i in range(n):\n",
    "    arr[i] = int(input())\n",
    "print(\"array elements:\", arr)"
   ]
  },
  {
   "cell_type": "code",
   "execution_count": 12,
   "metadata": {},
   "outputs": [
    {
     "name": "stdout",
     "output_type": "stream",
     "text": [
      "enter row size:2\n",
      "enter colum size:2\n",
      "size: 4\n",
      "shape: (2, 2)\n",
      "dimension 2\n",
      "matrix elements: [[   21455102   549737277]\n",
      " [-1372415988  1137170526]]\n"
     ]
    }
   ],
   "source": [
    "# two dimensional array in numpy.\n",
    "import numpy as np\n",
    "m = int(input(\"enter row size:\"))\n",
    "n = int(input(\"enter colum size:\"))\n",
    "matrix = np.ndarray(shape = (m,n),dtype=int)\n",
    "print(\"size:\",matrix.size)\n",
    "print(\"shape:\",matrix.shape)\n",
    "print(\"dimension\",matrix.ndim)\n",
    "for i in range(m,n):\n",
    "    matrix[i] = int(input())\n",
    "print(\"matrix elements:\", matrix)\n"
   ]
  },
  {
   "cell_type": "markdown",
   "metadata": {},
   "source": []
  },
  {
   "cell_type": "code",
   "execution_count": 16,
   "metadata": {},
   "outputs": [
    {
     "name": "stdout",
     "output_type": "stream",
     "text": [
      "[[6, 6, 6], [6, 6, 6]]\n"
     ]
    }
   ],
   "source": [
    "row = 2\n",
    "col = 3\n",
    "mat = []\n",
    "for i in range(row):\n",
    "    mat.append([6]*col)\n",
    "print(mat)"
   ]
  },
  {
   "cell_type": "code",
   "execution_count": 18,
   "metadata": {},
   "outputs": [
    {
     "name": "stdout",
     "output_type": "stream",
     "text": [
      "enter 5 elements:\n",
      "10\n",
      "20\n",
      "30\n",
      "40\n",
      "50\n",
      "elements: [10 20 30 40 50]\n",
      "size: 5\n",
      "shape: (5,)\n",
      "dimension: 1\n",
      "data type: int32\n"
     ]
    }
   ],
   "source": [
    "# numpy.ndarray\n",
    "arr = np.ndarray(shape = (5),dtype = int)\n",
    "n = arr.size\n",
    "print(\"enter %d elements:\"%n)\n",
    "for i in range(n):\n",
    "    arr[i] = int(input())\n",
    "print(\"elements:\",arr)\n",
    "print(\"size:\",arr.size)\n",
    "print(\"shape:\",arr.shape)\n",
    "print(\"dimension:\",arr.ndim)\n",
    "print(\"data type:\",arr.dtype)\n"
   ]
  },
  {
   "cell_type": "code",
   "execution_count": 22,
   "metadata": {},
   "outputs": [
    {
     "name": "stdout",
     "output_type": "stream",
     "text": [
      "Enter row size:2\n",
      "Enter column size:3\n",
      "enter 6 elements of 2*3 matrix:\n",
      "1\n",
      "2\n",
      "3\n",
      "4\n",
      "5\n",
      "6\n",
      "2*3 matrix is:\n",
      "[[1 2 3]\n",
      " [4 5 6]]\n"
     ]
    }
   ],
   "source": [
    "m = int(input(\"Enter row size:\"))\n",
    "n = int(input(\"Enter column size:\"))\n",
    "matrix = np.ndarray(shape = (m,n),dtype = int)\n",
    "print(\"enter %d elements of %d*%d matrix:\"%(m*n,m,n))\n",
    "for i in range(m):\n",
    "    for j in range(n):\n",
    "        matrix[i][j] = int(input())\n",
    "print(\"%d*%d matrix is:\"%(m,n))\n",
    "print(matrix)"
   ]
  },
  {
   "cell_type": "code",
   "execution_count": 25,
   "metadata": {},
   "outputs": [
    {
     "name": "stdout",
     "output_type": "stream",
     "text": [
      "enter 27 elements:\n",
      "size: 27\n",
      "shape: (3, 3, 3)\n",
      "dimension: 3\n",
      "data type: int32\n"
     ]
    }
   ],
   "source": [
    "# numpy defining multi dimensional array\n",
    "arr = np.ndarray(shape = (3,3,3), dtype = int)\n",
    "print(\"enter %d elements:\"%arr.size)\n",
    "print(\"size:\",arr.size)\n",
    "print(\"shape:\",arr.shape)\n",
    "print(\"dimension:\",arr.ndim)\n",
    "print(\"data type:\",arr.dtype)\n"
   ]
  },
  {
   "cell_type": "code",
   "execution_count": 28,
   "metadata": {},
   "outputs": [
    {
     "name": "stdout",
     "output_type": "stream",
     "text": [
      "array elements:\n",
      "[[[ 1  2  3]\n",
      "  [ 4  5  6]\n",
      "  [ 7  8  9]]\n",
      "\n",
      " [[10 11 12]\n",
      "  [13 14 15]\n",
      "  [16 17 18]]\n",
      "\n",
      " [[19 20 21]\n",
      "  [22 23 24]\n",
      "  [25 26 27]]]\n"
     ]
    }
   ],
   "source": [
    "arr = np.ndarray(shape = (3,3,3), dtype = int)\n",
    "value = 1\n",
    "x = arr.shape[0]\n",
    "y = arr.shape[1]\n",
    "z = arr.shape[2]\n",
    "for i in range(x):\n",
    "    for j in range(y):\n",
    "        for k in range(z):\n",
    "            arr[i][j][k] = value\n",
    "            value+=1\n",
    "print(\"array elements:\")\n",
    "print(arr)"
   ]
  },
  {
   "cell_type": "code",
   "execution_count": 34,
   "metadata": {},
   "outputs": [
    {
     "name": "stdout",
     "output_type": "stream",
     "text": [
      "array: [11 22 33 44 55 66 77 88]\n",
      "size: 8\n",
      "dimension: 1\n",
      "[[[11 22]\n",
      "  [33 44]]\n",
      "\n",
      " [[55 66]\n",
      "  [77 88]]]\n",
      "dimension: 3\n"
     ]
    }
   ],
   "source": [
    "# numpy reshape\n",
    "my_list = [11,22,33,44,55,66,77,88]\n",
    "arr = np.array(my_list)\n",
    "print(\"array:\",arr)\n",
    "print(\"size:\",arr.size)\n",
    "print(\"dimension:\",arr.ndim)\n",
    "res = arr.reshape(2,2,2)\n",
    "print(res)\n",
    "print(\"dimension:\",res.ndim)"
   ]
  },
  {
   "cell_type": "code",
   "execution_count": null,
   "metadata": {},
   "outputs": [],
   "source": []
  }
 ],
 "metadata": {
  "kernelspec": {
   "display_name": "Python 3",
   "language": "python",
   "name": "python3"
  },
  "language_info": {
   "codemirror_mode": {
    "name": "ipython",
    "version": 3
   },
   "file_extension": ".py",
   "mimetype": "text/x-python",
   "name": "python",
   "nbconvert_exporter": "python",
   "pygments_lexer": "ipython3",
   "version": "3.7.6"
  }
 },
 "nbformat": 4,
 "nbformat_minor": 4
}
