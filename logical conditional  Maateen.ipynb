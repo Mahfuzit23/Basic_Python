{
 "cells": [
  {
   "cell_type": "code",
   "execution_count": null,
   "metadata": {},
   "outputs": [],
   "source": [
    "a = 5\n",
    "if(a<10):\n",
    "    print(\"a is less than 10.\")"
   ]
  },
  {
   "cell_type": "code",
   "execution_count": null,
   "metadata": {},
   "outputs": [],
   "source": [
    "a = 9\n",
    "if a < 10:\n",
    "    print(\"a is less than 10.\")\n",
    "else:\n",
    "    print(\"a is greater than 10.\")"
   ]
  },
  {
   "cell_type": "code",
   "execution_count": null,
   "metadata": {},
   "outputs": [],
   "source": [
    "a = 15\n",
    "if a <10:\n",
    "    print(\"a is less than 10.\")\n",
    "else:\n",
    "    print(\"a is greater than 10.\")"
   ]
  },
  {
   "cell_type": "code",
   "execution_count": null,
   "metadata": {},
   "outputs": [],
   "source": [
    "a = int(input())\n",
    "if(a==5):\n",
    "    print(\"a equal to 5.\")\n",
    "elif(a<5):\n",
    "    print(\"a is less than 5.\")\n",
    "else:\n",
    "    print(\"a is greater than 5.\")"
   ]
  },
  {
   "cell_type": "code",
   "execution_count": null,
   "metadata": {},
   "outputs": [],
   "source": [
    "a = int(input())\n",
    "if a == 5:\n",
    "    print(\"a is equal to 5.\")\n",
    "elif a < 5:\n",
    "    print(\"a is less than 5.\")\n",
    "elif a > 5 and a < 10:\n",
    "    print(\"a is inbetween 5 and 10.\")\n",
    "else:\n",
    "    print(\"a is greater than 10.\")"
   ]
  },
  {
   "cell_type": "code",
   "execution_count": null,
   "metadata": {},
   "outputs": [],
   "source": [
    "a = int(input())\n",
    "if a < 10:\n",
    "    if (a % 2) == 0:\n",
    "        print(\"less, yes\")\n",
    "    else:\n",
    "        print(\"less, no\")\n",
    "else:\n",
    "    if (a % 3) == 0:\n",
    "        print(\"greater, yes\")\n",
    "    else:\n",
    "        print(\"greater, no\")"
   ]
  },
  {
   "cell_type": "code",
   "execution_count": null,
   "metadata": {},
   "outputs": [],
   "source": [
    "a = 5\n",
    "if a:\n",
    "    print(True)\n",
    "else:\n",
    "    print(False)"
   ]
  },
  {
   "cell_type": "code",
   "execution_count": null,
   "metadata": {},
   "outputs": [],
   "source": [
    "a = 0\n",
    "if a:\n",
    "    print(True)\n",
    "else:\n",
    "    print(False)"
   ]
  },
  {
   "cell_type": "code",
   "execution_count": null,
   "metadata": {},
   "outputs": [],
   "source": [
    "a = not None\n",
    "if a:\n",
    "    print(True)\n",
    "else:\n",
    "    print(False)"
   ]
  },
  {
   "cell_type": "code",
   "execution_count": null,
   "metadata": {},
   "outputs": [],
   "source": [
    "a = None\n",
    "if a:\n",
    "    print(True)\n",
    "else:\n",
    "    print(False)"
   ]
  },
  {
   "cell_type": "code",
   "execution_count": null,
   "metadata": {},
   "outputs": [],
   "source": [
    "a =[1,2,3,4,5]\n",
    "b = a\n",
    "b is a"
   ]
  },
  {
   "cell_type": "code",
   "execution_count": null,
   "metadata": {},
   "outputs": [],
   "source": [
    "b == a"
   ]
  },
  {
   "cell_type": "code",
   "execution_count": null,
   "metadata": {},
   "outputs": [],
   "source": [
    "b = a [:]\n",
    "b is a"
   ]
  },
  {
   "cell_type": "code",
   "execution_count": null,
   "metadata": {},
   "outputs": [],
   "source": [
    "b == a"
   ]
  },
  {
   "cell_type": "code",
   "execution_count": null,
   "metadata": {},
   "outputs": [],
   "source": [
    "4 is 2 ** 2"
   ]
  },
  {
   "cell_type": "code",
   "execution_count": null,
   "metadata": {},
   "outputs": [],
   "source": [
    "4 == 2 ** 2"
   ]
  },
  {
   "cell_type": "code",
   "execution_count": 1,
   "metadata": {},
   "outputs": [
    {
     "data": {
      "text/plain": [
       "True"
      ]
     },
     "execution_count": 1,
     "metadata": {},
     "output_type": "execute_result"
    }
   ],
   "source": [
    "1000 == 10**3"
   ]
  },
  {
   "cell_type": "code",
   "execution_count": 2,
   "metadata": {},
   "outputs": [
    {
     "data": {
      "text/plain": [
       "True"
      ]
     },
     "execution_count": 2,
     "metadata": {},
     "output_type": "execute_result"
    }
   ],
   "source": [
    "1000 is 10**3"
   ]
  },
  {
   "cell_type": "code",
   "execution_count": 6,
   "metadata": {},
   "outputs": [
    {
     "name": "stdout",
     "output_type": "stream",
     "text": [
      "please enter an integer number:15\n",
      "yes\n"
     ]
    }
   ],
   "source": [
    "# problem solving ইউজার একটা পূর্ণসংখ্যা ইনপুট দেবে। সংখ্যাটি ৩ ও ৫ দ্বারা নিঃশেষে বিভাজ্য হলে আউটপুট হবে Yes আর না হলে \n",
    "# আউটপুট হবে No।\n",
    "a = int(input(\"please enter an integer number:\"))\n",
    "if(a % 3) == 0 and (a % 5) == 0:\n",
    "    print(\"yes\")\n",
    "else:\n",
    "    print(\"no\")"
   ]
  },
  {
   "cell_type": "code",
   "execution_count": 10,
   "metadata": {},
   "outputs": [
    {
     "name": "stdout",
     "output_type": "stream",
     "text": [
      "enter a float number:1.1\n",
      "positive\n"
     ]
    }
   ],
   "source": [
    "# ইউজার একটা সংখ্যা ইনপুট দেবে। সংখ্যাটি ধনাত্মক হলে আউটপুট হবে Positive, ঋণাত্মক হলে আউটপুট হবে Negative\n",
    "# আর জিরো হলে আউটপুট Zero হবে।\n",
    "a = float(input(\"enter a float number:\"))\n",
    "if a > 0:\n",
    "    print(\"positive\")\n",
    "elif a < 0:\n",
    "    print(\"negative\")\n",
    "else:\n",
    "    print(\"zero\")"
   ]
  },
  {
   "cell_type": "code",
   "execution_count": 11,
   "metadata": {},
   "outputs": [
    {
     "name": "stdout",
     "output_type": "stream",
     "text": [
      "9\n",
      "odd\n"
     ]
    }
   ],
   "source": [
    "# ইউজার একটি পূর্ণসংখ্যা ইনপুট দেবে। সংখ্যাটি জোড় হলে আউটপুট হবে Even আর বিজোড় হলে আউটপুট Odd হবে।\n",
    "n = int(input())\n",
    "if (n % 2) == 0:\n",
    "    print(\"even\")\n",
    "else:\n",
    "    print(\"odd\")"
   ]
  },
  {
   "cell_type": "code",
   "execution_count": 5,
   "metadata": {},
   "outputs": [
    {
     "name": "stdout",
     "output_type": "stream",
     "text": [
      "h\n",
      "lower case\n"
     ]
    }
   ],
   "source": [
    "# ইউজার একটি ক্যারেক্টার (আলফাবেট) ইনপুট দেবে। ক্যারেক্টারটা ছোট হাতের অক্ষর হলে আউটপুট হবে Lower Case \n",
    "# আর বড় হাতের অক্ষর হলে হবে Upper Case। যদি ক্যারেক্টারটা আলফাবেটের মধ্যে না পড়ে,তবে আউটপুট Nothing হবে।\n",
    "character = input()\n",
    "if character >= \"a\" and character <=\"z\" :\n",
    "    print(\"lower case\")\n",
    "elif character >= \"A\" and character <= \"Z\" :\n",
    "    print(\"upper case\")\n",
    "else:\n",
    "    print(\"nothing\")"
   ]
  },
  {
   "cell_type": "code",
   "execution_count": 9,
   "metadata": {},
   "outputs": [
    {
     "name": "stdout",
     "output_type": "stream",
     "text": [
      "1\n",
      "nothing\n"
     ]
    }
   ],
   "source": [
    "ctr = input()\n",
    "if ctr >=\"a\" <=\"z\":\n",
    "    print(\"lower case\")\n",
    "elif ctr >=\"A\" <=\"Z\":\n",
    "    print(\"upper case\")\n",
    "else:\n",
    "    print(\"nothing\")"
   ]
  },
  {
   "cell_type": "code",
   "execution_count": 17,
   "metadata": {},
   "outputs": [
    {
     "name": "stdout",
     "output_type": "stream",
     "text": [
      "character: i\n",
      "vouel\n"
     ]
    }
   ],
   "source": [
    "# ইউজার একটি ক্যারেক্টার (আলফাবেট) ইনপুট দেবে। ক্যারেক্টারটা ভাওয়েল (Vowel) হলে আউটপুট হবে Vowel \n",
    "# আর কনসোনেন্ট (Consonant) হলে হবে Consonant; যদি ক্যারেক্টারটা আলফাবেটের মধ্যে না পড়ে,তবে আউটপুট হবে Nothing.\n",
    "ctr = input(\"character: \")\n",
    "if ctr >= \"a\" and ctr <= \"z\" or ctr >= \"A\" and ctr <=\"Z\" :\n",
    "    if ctr in \"aeiouAEIOU\" :\n",
    "        print(\"vouel\")\n",
    "    else:\n",
    "        print(\"consonant\")\n",
    "else:\n",
    "    print(\"nothing\")\n"
   ]
  },
  {
   "cell_type": "code",
   "execution_count": 3,
   "metadata": {},
   "outputs": [
    {
     "name": "stdout",
     "output_type": "stream",
     "text": [
      "enter the number of a: 50\n",
      "0 1000 taka note(s).\n",
      "0 500 taka note(s).\n",
      "0 100 taka note(s).\n",
      "1 50 taka note(s).\n",
      "0 10 taka note(s).\n",
      "0 5 taka note(s).\n",
      "0 2 taka note(s).\n",
      "0 1 taka note(s).\n"
     ]
    }
   ],
   "source": [
    "# ইউজার একটা পূর্ণসংখ্যা ইনপুট দেবে, এই ইনপুট হল তার লাঞ্চ বিল। এবার এটাকে আমাদের দেশের হিসেব অনুযায়ী \n",
    "# কত টাকার কয়টা নোট দিয়ে বিল দেয়া যাবে সেটা বের করতে হবে।\n",
    "a = int(input(\"enter the number of a: \"))\n",
    "b = a\n",
    "temp = a//1000\n",
    "print(temp,\"1000 taka note(s).\")\n",
    "if temp > 0:\n",
    "    a = a%1000\n",
    "    b = a\n",
    "else:\n",
    "    a = b\n",
    "temp = a//500\n",
    "print(temp,\"500 taka note(s).\")\n",
    "if temp > 0:\n",
    "    a = a%500\n",
    "    b = a\n",
    "else:\n",
    "    a = b\n",
    "temp = a//100\n",
    "print(temp,\"100 taka note(s).\")\n",
    "if temp > 0:\n",
    "    a = a%100\n",
    "    b = a\n",
    "else:\n",
    "    a = b\n",
    "temp = a//50\n",
    "print(temp,\"50 taka note(s).\")\n",
    "if temp > 0:\n",
    "    a = a%50\n",
    "    b = a\n",
    "else:\n",
    "    a = b\n",
    "temp = a//20\n",
    "if temp > 0:\n",
    "    a = a%20\n",
    "    b = a\n",
    "else:\n",
    "    a = b\n",
    "temp = a//10\n",
    "print(temp,\"10 taka note(s).\")\n",
    "if temp > 0:\n",
    "    a = a%10\n",
    "    b = a\n",
    "else:\n",
    "    a = b\n",
    "temp = a//5\n",
    "print(temp,\"5 taka note(s).\")\n",
    "if temp > 0:\n",
    "    a = a%5\n",
    "    b = a\n",
    "else:\n",
    "    a = b\n",
    "temp = a//2\n",
    "print(temp,\"2 taka note(s).\")\n",
    "if temp > 0:\n",
    "    a = a%2\n",
    "    b = a\n",
    "else:\n",
    "    a =b\n",
    "temp = a//1\n",
    "print(temp,\"1 taka note(s).\")"
   ]
  },
  {
   "cell_type": "code",
   "execution_count": 14,
   "metadata": {},
   "outputs": [
    {
     "name": "stdout",
     "output_type": "stream",
     "text": [
      " enter mahfuz s birth year: 1992\n",
      "leap year\n"
     ]
    }
   ],
   "source": [
    "# (১) ইউজার তার জন্মসাল ইনপুট দেবে। চেক করে দেখতে হবে সেটা লিপ-ইয়ার কিনা।\n",
    "year = int(input(\" enter mahfuz s birth year: \"))\n",
    "if(year%4) == 0:\n",
    "    print(\"leap year\")\n",
    "else:\n",
    "    print(\"not leap year\")\n"
   ]
  },
  {
   "cell_type": "code",
   "execution_count": 19,
   "metadata": {},
   "outputs": [
    {
     "name": "stdout",
     "output_type": "stream",
     "text": [
      "Bangla: 88\n",
      "bangla grade is = A+\n"
     ]
    }
   ],
   "source": [
    "# (২) ইউজার একটা সংখ্যা ইনপুট দেবে। সেটাকে আপনার স্কুল/কলেজ/বিশ্ববিদ্যালয়ের গ্রেডিং সিস্টেম অনুসারে \n",
    "# হিসেব-নিকেশ করে A+ বা B- বা F ইত্যাদি আউটপুট দেখাতে হবে।\n",
    "sub = int(input(\"Bangla: \"))\n",
    "if(sub >= 80):\n",
    "    print(\"bangla grade is = A+\")\n",
    "elif(sub >= 70 and sub <80):\n",
    "    print(\"A\")\n",
    "elif(sub >= 60 and sub <70):\n",
    "    print(\"A-\")\n",
    "elif(sub >= 50 and sub <60):\n",
    "    print(\"B\")\n",
    "elif(sub >= 40 and sub <50):\n",
    "    print(\"bangla grade is C\")\n",
    "else:\n",
    "    print(\"Fail! better for next year\")"
   ]
  },
  {
   "cell_type": "code",
   "execution_count": 3,
   "metadata": {},
   "outputs": [
    {
     "name": "stdout",
     "output_type": "stream",
     "text": [
      "enter the three integer: 66 22 11\n",
      "i is a greatest:  66\n",
      "\n"
     ]
    }
   ],
   "source": [
    "i,j,k = map(int, input(\"enter the three integer: \").split())\n",
    "if(i > j) and (i > k):\n",
    "    print(\"i is a greatest: \",i)\n",
    "elif(j > i) and (j > k):\n",
    "    print(\"j is a greatest: \",j)\n",
    "else:\n",
    "    print(\"k is a greatest: \",k)\n",
    "print()\n"
   ]
  },
  {
   "cell_type": "code",
   "execution_count": null,
   "metadata": {},
   "outputs": [],
   "source": []
  }
 ],
 "metadata": {
  "kernelspec": {
   "display_name": "Python 3",
   "language": "python",
   "name": "python3"
  },
  "language_info": {
   "codemirror_mode": {
    "name": "ipython",
    "version": 3
   },
   "file_extension": ".py",
   "mimetype": "text/x-python",
   "name": "python",
   "nbconvert_exporter": "python",
   "pygments_lexer": "ipython3",
   "version": "3.7.6"
  }
 },
 "nbformat": 4,
 "nbformat_minor": 4
}
