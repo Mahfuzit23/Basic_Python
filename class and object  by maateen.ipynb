{
 "cells": [
  {
   "cell_type": "code",
   "execution_count": 1,
   "metadata": {},
   "outputs": [
    {
     "name": "stdout",
     "output_type": "stream",
     "text": [
      "33\n",
      "50\n",
      "171\n",
      "4.0\n",
      "It is impossible to divide by zero.\n"
     ]
    }
   ],
   "source": [
    "class Calculator:\n",
    "    \"\"\"Do addition, subtraction, multiplication and division.\"\"\"\n",
    "\n",
    "    def addition(self, a, b):\n",
    "        return a+b\n",
    "    \n",
    "    def subtraction(self, a, b):\n",
    "        return a-b\n",
    "    \n",
    "    def multiplicaton(self, a, b):\n",
    "        return a*b\n",
    "\n",
    "    def division(self, a, b):\n",
    "        try:\n",
    "            return a/b\n",
    "        except ZeroDivisionError:\n",
    "            return 'It is impossible to divide by zero.'\n",
    "\n",
    "my_calculator = Calculator()\n",
    "\n",
    "temp = my_calculator.addition(12, 21)\n",
    "print(temp)\n",
    "\n",
    "temp = my_calculator.subtraction(100, 50)\n",
    "print(temp)\n",
    "\n",
    "temp = my_calculator.multiplicaton(9, 19)\n",
    "print(temp)\n",
    "\n",
    "temp = my_calculator.division(20, 5)\n",
    "print(temp)\n",
    "\n",
    "temp = my_calculator.division(10, 0)\n",
    "print(temp)\n"
   ]
  },
  {
   "cell_type": "code",
   "execution_count": 2,
   "metadata": {},
   "outputs": [
    {
     "name": "stdout",
     "output_type": "stream",
     "text": [
      "the roll of mahfuz: 101, gpa of mahfuz: 5\n"
     ]
    }
   ],
   "source": [
    "class Student:\n",
    "    roll = \"\"\n",
    "    gpa = \"\"\n",
    "\n",
    "mahfuz = Student()\n",
    "mahfuz.roll = 101\n",
    "mahfuz.gpa = 5\n",
    "print(f\"the roll of mahfuz: {mahfuz.roll}, gpa of mahfuz: {mahfuz.gpa}\")"
   ]
  },
  {
   "cell_type": "code",
   "execution_count": 3,
   "metadata": {},
   "outputs": [
    {
     "name": "stdout",
     "output_type": "stream",
     "text": [
      "oprio love mahfuz\n"
     ]
    }
   ],
   "source": [
    "class Youtube:\n",
    "    channl = \"\"\n",
    "    content = \"\"\n",
    "    admin = \"\"\n",
    "\n",
    "    def detail(self):\n",
    "        print(self.channel, self.content, self.admin)\n",
    "\n",
    "\n",
    "youtube = Youtube()\n",
    "youtube.channel = \"oprio\"\n",
    "youtube.content = \"love\"\n",
    "youtube.admin = \"mahfuz\"\n",
    "youtube.detail()"
   ]
  },
  {
   "cell_type": "code",
   "execution_count": 4,
   "metadata": {},
   "outputs": [
    {
     "name": "stdout",
     "output_type": "stream",
     "text": [
      "voice call HD quality 18 mega pixel\n",
      "sumsung glaxy 9\n",
      "voice and video call new hd qualiy 24 mega pixel\n"
     ]
    }
   ],
   "source": [
    "class Mobile:\n",
    "    call = \"\"\n",
    "    camera = \"\"\n",
    "    video = \"\"\n",
    "\n",
    "    def details(self):\n",
    "        print(self.call,self.camera, self.video)\n",
    "\n",
    "    def details_mobile(self,sumsung):\n",
    "        print(self.call, self.camera, self.video)\n",
    "        print(sumsung)\n",
    "\n",
    "mobile = Mobile()\n",
    "mobile.call = (\"voice call\")\n",
    "mobile.camera = (\"HD quality\")\n",
    "mobile.video = (\"18 mega pixel\")\n",
    "mobile.details_mobile(\"sumsung glaxy 9\")\n",
    "\n",
    "\n",
    "mobile1 = Mobile()\n",
    "mobile1.call = (\"voice and video call\")\n",
    "mobile1.camera = (\"new hd qualiy\")\n",
    "mobile1.video = (\"24 mega pixel\")\n",
    "mobile1.details()"
   ]
  },
  {
   "cell_type": "code",
   "execution_count": 5,
   "metadata": {},
   "outputs": [
    {
     "name": "stdout",
     "output_type": "stream",
     "text": [
      "mahfuz / 24 / male\n",
      "sumon / 24 / male\n"
     ]
    }
   ],
   "source": [
    "class Person:\n",
    "    def __init__(self,name,age,gender):\n",
    "        self.name = name\n",
    "        self.age = age\n",
    "        self.gender = gender\n",
    "\n",
    "    def details(self):\n",
    "        print(self.name,self.age,self.gender,sep=\" / \")\n",
    "\n",
    "mahfuz = Person(\"mahfuz\",24,\"male\")\n",
    "mahfuz.details()\n",
    "mahfuz.name = \"sumon\"\n",
    "mahfuz.details()\n"
   ]
  },
  {
   "cell_type": "code",
   "execution_count": 6,
   "metadata": {},
   "outputs": [
    {
     "name": "stdout",
     "output_type": "stream",
     "text": [
      "mahfuz 0 / 24 / male 0\n",
      "mahfuz 1 / 25 / male 1\n",
      "mahfuz 2 / 26 / male 2\n"
     ]
    }
   ],
   "source": [
    "class Person:\n",
    "    def __init__(self,name,age,gender):\n",
    "        self.name = name\n",
    "        self.age = age\n",
    "        self.gender = gender\n",
    "\n",
    "    def details(self):\n",
    "        print(self.name,self.age,self.gender, sep=\" / \")\n",
    "\n",
    "people_list = []\n",
    "for i in range(0,3):\n",
    "    person = Person(\"mahfuz \"+str(i),24+i,\"male \"+str(i))\n",
    "    people_list += [person]\n",
    "for i in people_list:\n",
    "    i.details()"
   ]
  },
  {
   "cell_type": "code",
   "execution_count": 7,
   "metadata": {},
   "outputs": [
    {
     "name": "stdout",
     "output_type": "stream",
     "text": [
      "Xcreated\n",
      "Ycreated\n",
      "hello mahfuz\n"
     ]
    }
   ],
   "source": [
    "class X:\n",
    "    def __init__(self, name):\n",
    "        self.name = name\n",
    "        print (self.name + \"created\")\n",
    "    def __del__(self):\n",
    "        print (self.name + \"is destroyed\")\n",
    "\n",
    "x = X(\"X\")\n",
    "y = X(\"Y\")\n",
    "print (\"hello mahfuz\")"
   ]
  },
  {
   "cell_type": "code",
   "execution_count": 8,
   "metadata": {},
   "outputs": [
    {
     "name": "stdout",
     "output_type": "stream",
     "text": [
      "mahfuz\n",
      "alam\n"
     ]
    }
   ],
   "source": [
    "class Person:\n",
    "    def __init__(self,person_name):\n",
    "        self.name = person_name\n",
    "\n",
    "    def get_name(self):\n",
    "        return self.name\n",
    "\n",
    "a_person = Person(\"mahfuz\")\n",
    "b_person = Person(\"alam\")\n",
    "print(a_person.get_name())\n",
    "print(b_person.get_name())"
   ]
  },
  {
   "cell_type": "code",
   "execution_count": 9,
   "metadata": {},
   "outputs": [
    {
     "name": "stdout",
     "output_type": "stream",
     "text": [
      "48\n",
      "42\n",
      "135\n",
      "15.0\n"
     ]
    }
   ],
   "source": [
    "class Calculator:\n",
    "    def __init__(self,a,b):\n",
    "        self.a = a\n",
    "        self.b = b\n",
    "\n",
    "    def addition(self):\n",
    "        return self.a + self.b\n",
    "\n",
    "    def subtraction(self):\n",
    "        return self.a - self.b\n",
    "\n",
    "    def multiplication(self):\n",
    "        return self.a * self.b\n",
    "\n",
    "    def division(self):\n",
    "        try:\n",
    "            return self.a / self.b\n",
    "        except ZeroDivisionError:\n",
    "            return \"its not impossible to divide by zero\"\n",
    "\n",
    "my_calculator = Calculator(45,3)\n",
    "temp = my_calculator.addition()\n",
    "print(temp)\n",
    "temp = my_calculator.subtraction()\n",
    "print(temp)\n",
    "temp = my_calculator.multiplication()\n",
    "print(temp)\n",
    "temp = my_calculator.division()\n",
    "print(temp)"
   ]
  },
  {
   "cell_type": "code",
   "execution_count": 10,
   "metadata": {},
   "outputs": [
    {
     "name": "stdout",
     "output_type": "stream",
     "text": [
      "10\n",
      "10\n",
      "10\n",
      "10.0\n",
      "9\n",
      "8\n"
     ]
    }
   ],
   "source": [
    "class Calculator:\n",
    "    def addition(self,a,b):\n",
    "        return a+b\n",
    "\n",
    "    def subtraction(self,a,b):\n",
    "        return a-b\n",
    "\n",
    "    def multiplication(self,a,b):\n",
    "        return a*b\n",
    "\n",
    "    def division(self,a,b):\n",
    "        try:\n",
    "            return a/b\n",
    "        except ZeroDivisionError:\n",
    "            return \"it is impossible to divide by zero.\"\n",
    "\n",
    "    def square(self,a):\n",
    "        return a*a\n",
    "\n",
    "    def cub(self,a):\n",
    "        return a*a*a\n",
    "\n",
    "my_calculator = Calculator()\n",
    "temp = my_calculator.addition(5,5)\n",
    "print(temp)\n",
    "temp = my_calculator.subtraction(20,10)\n",
    "print(temp)\n",
    "temp = my_calculator.multiplication(5,2)\n",
    "print(temp)\n",
    "temp = my_calculator.division(100,10)\n",
    "print(temp)\n",
    "temp = my_calculator.square(3)\n",
    "print(temp)\n",
    "temp = my_calculator.cub(2)\n",
    "print(temp)"
   ]
  },
  {
   "cell_type": "code",
   "execution_count": 11,
   "metadata": {},
   "outputs": [
    {
     "name": "stdout",
     "output_type": "stream",
     "text": [
      "10\n",
      "10\n",
      "10\n",
      "10.0\n",
      "9\n",
      "8\n"
     ]
    }
   ],
   "source": [
    "class Calculator:\n",
    "    def addition(self,a,b):\n",
    "        return a+b\n",
    "\n",
    "    def subtraction(self,a,b):\n",
    "        return a-b\n",
    "\n",
    "    def multiplication(self,a,b):\n",
    "        return a*b\n",
    "\n",
    "    def division(self,a,b):\n",
    "        try:\n",
    "            return a/b\n",
    "        except ZeroDivisionError:\n",
    "            return \"it is impossible to divide by zero.\"\n",
    "\n",
    "class SuperCalculator(Calculator):\n",
    "    \n",
    "    def square(self,a):\n",
    "        return a*a\n",
    "\n",
    "    def cub(self,a):\n",
    "        return a*a*a\n",
    "\n",
    "my_calculator = SuperCalculator()\n",
    "temp = my_calculator.addition(5,5)\n",
    "print(temp)\n",
    "temp = my_calculator.subtraction(20,10)\n",
    "print(temp)\n",
    "temp = my_calculator.multiplication(5,2)\n",
    "print(temp)\n",
    "temp = my_calculator.division(100,10)\n",
    "print(temp)\n",
    "temp = my_calculator.square(3)\n",
    "print(temp)\n",
    "temp = my_calculator.cub(2)\n",
    "print(temp)"
   ]
  },
  {
   "cell_type": "code",
   "execution_count": 12,
   "metadata": {},
   "outputs": [
    {
     "name": "stdout",
     "output_type": "stream",
     "text": [
      "it is a custom error\n"
     ]
    }
   ],
   "source": [
    "class CustomError(Exception):\n",
    "    def __init__(self,message):\n",
    "        self.message = message\n",
    "try:\n",
    "    raise CustomError(\"it is a custom error\")\n",
    "except CustomError as e:\n",
    "    print(e)"
   ]
  },
  {
   "cell_type": "code",
   "execution_count": 13,
   "metadata": {},
   "outputs": [
    {
     "name": "stdout",
     "output_type": "stream",
     "text": [
      "82\n",
      "0\n",
      "3640\n",
      "11.210526315789474\n",
      "49\n",
      "27\n"
     ]
    }
   ],
   "source": [
    "class Calculator:\n",
    "    def addition(self,a,b):\n",
    "        return a + b\n",
    "    def subtraction(self,a,b):\n",
    "        return a - a\n",
    "    def multiplication(self,a,b):\n",
    "        return a * b\n",
    "    def division(self,a,b):\n",
    "        try:\n",
    "            return a/b\n",
    "        except ZeroDivisionError:\n",
    "            return \"it is impossible to divide by zero\"\n",
    "class SuperCalculator(Calculator):\n",
    "    def addition(self,a,b,c):\n",
    "        return a + b + c\n",
    "\n",
    "    def square(self,a):\n",
    "        return a * a\n",
    "    def cube(self,a):\n",
    "        return a * a * a\n",
    "\n",
    "\n",
    "my_calculator = SuperCalculator()\n",
    "\n",
    "temp = my_calculator.addition(23, 47, 12)\n",
    "print(temp)\n",
    "\n",
    "temp = my_calculator.subtraction(87, 54)\n",
    "print(temp)\n",
    "\n",
    "temp = my_calculator.multiplication(65, 56)\n",
    "print(temp)\n",
    "\n",
    "temp = my_calculator.division(852, 76)\n",
    "print(temp)\n",
    "\n",
    "temp = my_calculator.square(7)\n",
    "print(temp)\n",
    "\n",
    "temp = my_calculator.cube(3)\n",
    "print(temp)   "
   ]
  },
  {
   "cell_type": "code",
   "execution_count": null,
   "metadata": {},
   "outputs": [],
   "source": []
  }
 ],
 "metadata": {
  "kernelspec": {
   "display_name": "Python 3",
   "language": "python",
   "name": "python3"
  },
  "language_info": {
   "codemirror_mode": {
    "name": "ipython",
    "version": 3
   },
   "file_extension": ".py",
   "mimetype": "text/x-python",
   "name": "python",
   "nbconvert_exporter": "python",
   "pygments_lexer": "ipython3",
   "version": "3.7.6"
  }
 },
 "nbformat": 4,
 "nbformat_minor": 4
}
