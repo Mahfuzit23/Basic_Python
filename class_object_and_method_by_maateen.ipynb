{
  "nbformat": 4,
  "nbformat_minor": 0,
  "metadata": {
    "colab": {
      "name": "class object and method by maateen",
      "provenance": [],
      "collapsed_sections": [],
      "authorship_tag": "ABX9TyNoxMRDnTQTWRIAtThYTMUw",
      "include_colab_link": true
    },
    "kernelspec": {
      "name": "python3",
      "display_name": "Python 3"
    }
  },
  "cells": [
    {
      "cell_type": "markdown",
      "metadata": {
        "id": "view-in-github",
        "colab_type": "text"
      },
      "source": [
        "<a href=\"https://colab.research.google.com/github/Mahfuzit23/Basic_Python/blob/master/class_object_and_method_by_maateen.ipynb\" target=\"_parent\"><img src=\"https://colab.research.google.com/assets/colab-badge.svg\" alt=\"Open In Colab\"/></a>"
      ]
    },
    {
      "cell_type": "code",
      "metadata": {
        "id": "jfM5TfiymDPp",
        "colab_type": "code",
        "colab": {
          "base_uri": "https://localhost:8080/",
          "height": 102
        },
        "outputId": "ec889341-ce35-4a21-aa26-569d62247ed4"
      },
      "source": [
        "class Calculator:\n",
        "    \"\"\"Do addition, subtraction, multiplication and division.\"\"\"\n",
        "\n",
        "    def addition(self, a, b):\n",
        "        return a+b\n",
        "    \n",
        "    def subtraction(self, a, b):\n",
        "        return a-b\n",
        "    \n",
        "    def multiplicaton(self, a, b):\n",
        "        return a*b\n",
        "\n",
        "    def division(self, a, b):\n",
        "        try:\n",
        "            return a/b\n",
        "        except ZeroDivisionError:\n",
        "            return 'It is impossible to divide by zero.'\n",
        "\n",
        "my_calculator = Calculator()\n",
        "\n",
        "temp = my_calculator.addition(12, 21)\n",
        "print(temp)\n",
        "\n",
        "temp = my_calculator.subtraction(100, 50)\n",
        "print(temp)\n",
        "\n",
        "temp = my_calculator.multiplicaton(9, 19)\n",
        "print(temp)\n",
        "\n",
        "temp = my_calculator.division(20, 5)\n",
        "print(temp)\n",
        "\n",
        "temp = my_calculator.division(10, 0)\n",
        "print(temp)\n"
      ],
      "execution_count": null,
      "outputs": [
        {
          "output_type": "stream",
          "text": [
            "33\n",
            "50\n",
            "171\n",
            "4.0\n",
            "It is impossible to divide by zero.\n"
          ],
          "name": "stdout"
        }
      ]
    },
    {
      "cell_type": "code",
      "metadata": {
        "id": "JZ4Dw4s9x4Nu",
        "colab_type": "code",
        "colab": {
          "base_uri": "https://localhost:8080/",
          "height": 34
        },
        "outputId": "214832b0-fe93-4fc6-aa4c-d7b4fb80e998"
      },
      "source": [
        "class Student:\n",
        "    roll = \"\"\n",
        "    gpa = \"\"\n",
        "\n",
        "mahfuz = Student()\n",
        "mahfuz.roll = 101\n",
        "mahfuz.gpa = 5\n",
        "print(f\"the roll of mahfuz: {mahfuz.roll}, gpa of mahfuz: {mahfuz.gpa}\")"
      ],
      "execution_count": null,
      "outputs": [
        {
          "output_type": "stream",
          "text": [
            "the roll of mahfuz: 101, gpa of mahfuz: 5\n"
          ],
          "name": "stdout"
        }
      ]
    },
    {
      "cell_type": "code",
      "metadata": {
        "id": "iuvC9By765Us",
        "colab_type": "code",
        "colab": {}
      },
      "source": [
        ""
      ],
      "execution_count": null,
      "outputs": []
    },
    {
      "cell_type": "code",
      "metadata": {
        "id": "DmbbJjy3kWZQ",
        "colab_type": "code",
        "colab": {
          "base_uri": "https://localhost:8080/",
          "height": 34
        },
        "outputId": "76051c04-9cef-4842-a590-3d5f08bed9fe"
      },
      "source": [
        "class Youtube:\n",
        "    channl = \"\"\n",
        "    content = \"\"\n",
        "    admin = \"\"\n",
        "\n",
        "    def detail(self):\n",
        "        print(self.channel, self.content, self.admin)\n",
        "\n",
        "\n",
        "youtube = Youtube()\n",
        "youtube.channel = \"oprio\"\n",
        "youtube.content = \"love\"\n",
        "youtube.admin = \"mahfuz\"\n",
        "youtube.detail()"
      ],
      "execution_count": null,
      "outputs": [
        {
          "output_type": "stream",
          "text": [
            "oprio love mahfuz\n"
          ],
          "name": "stdout"
        }
      ]
    },
    {
      "cell_type": "code",
      "metadata": {
        "id": "4WupK5PlxGEn",
        "colab_type": "code",
        "colab": {
          "base_uri": "https://localhost:8080/",
          "height": 68
        },
        "outputId": "5a0a03e2-c2b9-46ce-9f69-f7ff783d7650"
      },
      "source": [
        "class Mobile:\n",
        "    call = \"\"\n",
        "    camera = \"\"\n",
        "    video = \"\"\n",
        "\n",
        "    def details(self):\n",
        "        print(self.call,self.camera, self.video)\n",
        "\n",
        "    def details_mobile(self,sumsung):\n",
        "        print(self.call, self.camera, self.video)\n",
        "        print(sumsung)\n",
        "\n",
        "mobile = Mobile()\n",
        "mobile.call = (\"voice call\")\n",
        "mobile.camera = (\"HD quality\")\n",
        "mobile.video = (\"18 mega pixel\")\n",
        "mobile.details_mobile(\"sumsung glaxy 9\")\n",
        "\n",
        "\n",
        "mobile1 = Mobile()\n",
        "mobile1.call = (\"voice and video call\")\n",
        "mobile1.camera = (\"new hd qualiy\")\n",
        "mobile1.video = (\"24 mega pixel\")\n",
        "mobile1.details()\n"
      ],
      "execution_count": null,
      "outputs": [
        {
          "output_type": "stream",
          "text": [
            "voice call HD quality 18 mega pixel\n",
            "sumsung glaxy 9\n",
            "voice and video call new hd qualiy 24 mega pixel\n"
          ],
          "name": "stdout"
        }
      ]
    },
    {
      "cell_type": "code",
      "metadata": {
        "id": "yTI-tNwI69Eo",
        "colab_type": "code",
        "colab": {
          "base_uri": "https://localhost:8080/",
          "height": 51
        },
        "outputId": "7f8005ce-9d5d-4f3f-f87c-9d8aaf1b6481"
      },
      "source": [
        "class Person:\n",
        "    def __init__(self,name,age,gender):\n",
        "        self.name = name\n",
        "        self.age = age\n",
        "        self.gender = gender\n",
        "\n",
        "    def details(self):\n",
        "        print(self.name,self.age,self.gender,sep=\" / \")\n",
        "\n",
        "mahfuz = Person(\"mahfuz\",24,\"male\")\n",
        "mahfuz.details()\n",
        "mahfuz.name = \"sumon\"\n",
        "mahfuz.details()\n",
        "\n",
        "        "
      ],
      "execution_count": null,
      "outputs": [
        {
          "output_type": "stream",
          "text": [
            "mahfuz / 24 / male\n",
            "sumon / 24 / male\n"
          ],
          "name": "stdout"
        }
      ]
    },
    {
      "cell_type": "code",
      "metadata": {
        "id": "IKeqdLDkBgVc",
        "colab_type": "code",
        "colab": {
          "base_uri": "https://localhost:8080/",
          "height": 68
        },
        "outputId": "3a921766-02af-43e3-f678-f9866ff146ca"
      },
      "source": [
        "class Person:\n",
        "    def __init__(self,name,age,gender):\n",
        "        self.name = name\n",
        "        self.age = age\n",
        "        self.gender = gender\n",
        "\n",
        "    def details(self):\n",
        "        print(self.name,self.age,self.gender, sep=\" / \")\n",
        "\n",
        "people_list = []\n",
        "for i in range(0,3):\n",
        "    person = Person(\"mahfuz \"+str(i),24+i,\"male \"+str(i))\n",
        "    people_list += [person]\n",
        "for i in people_list:\n",
        "    i.details()"
      ],
      "execution_count": null,
      "outputs": [
        {
          "output_type": "stream",
          "text": [
            "mahfuz 0 / 24 / male 0\n",
            "mahfuz 1 / 25 / male 1\n",
            "mahfuz 2 / 26 / male 2\n"
          ],
          "name": "stdout"
        }
      ]
    },
    {
      "cell_type": "code",
      "metadata": {
        "id": "9t3AWyTKwgN_",
        "colab_type": "code",
        "colab": {
          "base_uri": "https://localhost:8080/",
          "height": 102
        },
        "outputId": "1eebbc86-1675-4ef7-de6e-74f60339ae3e"
      },
      "source": [
        "class X:\n",
        "    def __init__(self, name):\n",
        "        self.name = name\n",
        "        print (self.name + \"created\")\n",
        "    def __del__(self):\n",
        "        print (self.name + \"is destroyed\")\n",
        "\n",
        "x = X(\"X\")\n",
        "y = X(\"Y\")\n",
        "print (\"hello mahfuz\")"
      ],
      "execution_count": null,
      "outputs": [
        {
          "output_type": "stream",
          "text": [
            "Xcreated\n",
            "Xis destroyed\n",
            "Ycreated\n",
            "Yis destroyed\n",
            "hello mahfuz\n"
          ],
          "name": "stdout"
        }
      ]
    },
    {
      "cell_type": "code",
      "metadata": {
        "id": "6D8M05cIKDF3",
        "colab_type": "code",
        "colab": {
          "base_uri": "https://localhost:8080/",
          "height": 51
        },
        "outputId": "ba13def8-f8ed-4b65-b6a7-25d8378667d9"
      },
      "source": [
        "class Person:\n",
        "    def __init__(self,person_name):\n",
        "        self.name = person_name\n",
        "\n",
        "    def get_name(self):\n",
        "        return self.name\n",
        "\n",
        "a_person = Person(\"mahfuz\")\n",
        "b_person = Person(\"alam\")\n",
        "print(a_person.get_name())\n",
        "print(b_person.get_name())"
      ],
      "execution_count": null,
      "outputs": [
        {
          "output_type": "stream",
          "text": [
            "mahfuz\n",
            "alam\n"
          ],
          "name": "stdout"
        }
      ]
    },
    {
      "cell_type": "code",
      "metadata": {
        "id": "yEke--9ZPudl",
        "colab_type": "code",
        "colab": {
          "base_uri": "https://localhost:8080/",
          "height": 85
        },
        "outputId": "882d0f38-9428-49c3-ea96-1082c1f05c4b"
      },
      "source": [
        "class Calculator:\n",
        "    def __init__(self,a,b):\n",
        "        self.a = a\n",
        "        self.b = b\n",
        "\n",
        "    def addition(self):\n",
        "        return self.a + self.b\n",
        "\n",
        "    def subtraction(self):\n",
        "        return self.a - self.b\n",
        "\n",
        "    def multiplication(self):\n",
        "        return self.a * self.b\n",
        "\n",
        "    def division(self):\n",
        "        try:\n",
        "            return self.a / self.b\n",
        "        except ZeroDivisionError:\n",
        "            return \"its not impossible to divide by zero\"\n",
        "\n",
        "my_calculator = Calculator(45,3)\n",
        "temp = my_calculator.addition()\n",
        "print(temp)\n",
        "temp = my_calculator.subtraction()\n",
        "print(temp)\n",
        "temp = my_calculator.multiplication()\n",
        "print(temp)\n",
        "temp = my_calculator.division()\n",
        "print(temp)"
      ],
      "execution_count": null,
      "outputs": [
        {
          "output_type": "stream",
          "text": [
            "48\n",
            "42\n",
            "135\n",
            "15.0\n"
          ],
          "name": "stdout"
        }
      ]
    },
    {
      "cell_type": "code",
      "metadata": {
        "id": "JmwEMleLjZil",
        "colab_type": "code",
        "colab": {
          "base_uri": "https://localhost:8080/",
          "height": 119
        },
        "outputId": "7ed134dd-bb10-417d-fc06-a8de49691cc7"
      },
      "source": [
        "class Calculator:\n",
        "    def addition(self,a,b):\n",
        "        return a+b\n",
        "\n",
        "    def subtraction(self,a,b):\n",
        "        return a-b\n",
        "\n",
        "    def multiplication(self,a,b):\n",
        "        return a*b\n",
        "\n",
        "    def division(self,a,b):\n",
        "        try:\n",
        "            return a/b\n",
        "        except ZeroDivisionError:\n",
        "            return \"it is impossible to divide by zero.\"\n",
        "\n",
        "    def square(self,a):\n",
        "        return a*a\n",
        "\n",
        "    def cub(self,a):\n",
        "        return a*a*a\n",
        "\n",
        "my_calculator = Calculator()\n",
        "temp = my_calculator.addition(5,5)\n",
        "print(temp)\n",
        "temp = my_calculator.subtraction(20,10)\n",
        "print(temp)\n",
        "temp = my_calculator.multiplication(5,2)\n",
        "print(temp)\n",
        "temp = my_calculator.division(100,10)\n",
        "print(temp)\n",
        "temp = my_calculator.square(3)\n",
        "print(temp)\n",
        "temp = my_calculator.cub(2)\n",
        "print(temp)\n"
      ],
      "execution_count": null,
      "outputs": [
        {
          "output_type": "stream",
          "text": [
            "10\n",
            "10\n",
            "10\n",
            "10.0\n",
            "9\n",
            "8\n"
          ],
          "name": "stdout"
        }
      ]
    },
    {
      "cell_type": "code",
      "metadata": {
        "id": "BkUQPz2Ups5i",
        "colab_type": "code",
        "colab": {
          "base_uri": "https://localhost:8080/",
          "height": 119
        },
        "outputId": "01e96ef2-b1ff-4e4f-84ff-0007b795ec60"
      },
      "source": [
        "class Calculator:\n",
        "    def addition(self,a,b):\n",
        "        return a+b\n",
        "\n",
        "    def subtraction(self,a,b):\n",
        "        return a-b\n",
        "\n",
        "    def multiplication(self,a,b):\n",
        "        return a*b\n",
        "\n",
        "    def division(self,a,b):\n",
        "        try:\n",
        "            return a/b\n",
        "        except ZeroDivisionError:\n",
        "            return \"it is impossible to divide by zero.\"\n",
        "\n",
        "class SuperCalculator(Calculator):\n",
        "    \n",
        "    def square(self,a):\n",
        "        return a*a\n",
        "\n",
        "    def cub(self,a):\n",
        "        return a*a*a\n",
        "\n",
        "my_calculator = SuperCalculator()\n",
        "temp = my_calculator.addition(5,5)\n",
        "print(temp)\n",
        "temp = my_calculator.subtraction(20,10)\n",
        "print(temp)\n",
        "temp = my_calculator.multiplication(5,2)\n",
        "print(temp)\n",
        "temp = my_calculator.division(100,10)\n",
        "print(temp)\n",
        "temp = my_calculator.square(3)\n",
        "print(temp)\n",
        "temp = my_calculator.cub(2)\n",
        "print(temp)\n"
      ],
      "execution_count": null,
      "outputs": [
        {
          "output_type": "stream",
          "text": [
            "10\n",
            "10\n",
            "10\n",
            "10.0\n",
            "9\n",
            "8\n"
          ],
          "name": "stdout"
        }
      ]
    }
  ]
}