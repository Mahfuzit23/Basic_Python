{
 "cells": [
  {
   "cell_type": "code",
   "execution_count": null,
   "metadata": {},
   "outputs": [],
   "source": [
    "file = open(\"test.txt\",\"r\")\n",
    "content = file.read()\n",
    "print(content)\n",
    "file.close()"
   ]
  },
  {
   "cell_type": "code",
   "execution_count": null,
   "metadata": {},
   "outputs": [],
   "source": [
    "class Calculator:\n",
    "    \"\"\"Do addition, subtraction, multiplication and division.\"\"\"\n",
    "\n",
    "    def addition(self, a, b):\n",
    "        return a+b\n",
    "    \n",
    "    def subtraction(self, a, b):\n",
    "        return a-b\n",
    "    \n",
    "    def multiplicaton(self, a, b):\n",
    "        return a*b\n",
    "\n",
    "    def division(self, a, b):\n",
    "        try:\n",
    "            return a/b\n",
    "        except ZeroDivisionError:\n",
    "            return 'It is impossible to divide by zero.'\n",
    "\n",
    "my_calculator = Calculator()\n",
    "\n",
    "temp = my_calculator.addition(12, 21)\n",
    "print(temp)\n",
    "\n",
    "temp = my_calculator.subtraction(100, 50)\n",
    "print(temp)\n",
    "\n",
    "temp = my_calculator.multiplicaton(9, 19)\n",
    "print(temp)\n",
    "\n",
    "temp = my_calculator.division(20, 5)\n",
    "print(temp)\n",
    "\n",
    "temp = my_calculator.division(10, 0)\n",
    "print(temp)\n"
   ]
  },
  {
   "cell_type": "code",
   "execution_count": null,
   "metadata": {},
   "outputs": [],
   "source": [
    "class Student:\n",
    "    roll = \"\"\n",
    "    gpa = \"\"\n",
    "\n",
    "mahfuz = Student()\n",
    "print(isinstance(mahfuz,Student))\n",
    "mahfuz.roll = 101\n",
    "mahfuz.gpa = 5\n",
    "print(\"mahfuz: \",f\"roll: {mahfuz.roll}, gpa: {mahfuz.gpa}\")"
   ]
  },
  {
   "cell_type": "code",
   "execution_count": 2,
   "metadata": {},
   "outputs": [
    {
     "name": "stdout",
     "output_type": "stream",
     "text": [
      "kebab ghor mahfuz\n",
      "noakhali\n"
     ]
    }
   ],
   "source": [
    "class Restaurant:\n",
    "    name = \"\"\n",
    "    owner = \"\"\n",
    "\n",
    "    def details(self):\n",
    "        print(self.name, self.owner)\n",
    "\n",
    "    def details_with_address(self,address):\n",
    "        print(self.name,self.owner)\n",
    "        print(address)\n",
    "\n",
    "restaurant1 = Restaurant()\n",
    "restaurant1.name = \"kebab ghor\"\n",
    "restaurant1.owner = \"mahfuz\"\n",
    "restaurant1.details_with_address (\"noakhali\")"
   ]
  },
  {
   "cell_type": "code",
   "execution_count": 5,
   "metadata": {},
   "outputs": [
    {
     "name": "stdout",
     "output_type": "stream",
     "text": [
      "mahfuz / 24 / male\n"
     ]
    }
   ],
   "source": [
    "class Person:\n",
    "    def __init__(self,name,age,gender):\n",
    "        self.name = name\n",
    "        self.age = age\n",
    "        self.gender = gender\n",
    "\n",
    "    def details(self):\n",
    "        print(self.name,self.age,self.gender, sep=\" / \")\n",
    "\n",
    "mahfuz = Person(\"mahfuz\",24,\"male\")\n",
    "mahfuz.details()"
   ]
  },
  {
   "cell_type": "code",
   "execution_count": 7,
   "metadata": {},
   "outputs": [
    {
     "name": "stdout",
     "output_type": "stream",
     "text": [
      "Xcreated\n",
      "Ycreated\n",
      "hello mahfuz\n"
     ]
    }
   ],
   "source": [
    "class X:\n",
    "    def __init__(self, name):\n",
    "        self.name = name\n",
    "        print(self.name + \"created\")\n",
    "        \n",
    "    def __del__(self):\n",
    "        print(self.name + \"is destroyed\")\n",
    "        \n",
    "x = X(\"X\")\n",
    "y = X(\"Y\")\n",
    "print(\"hello mahfuz\")"
   ]
  },
  {
   "cell_type": "code",
   "execution_count": 10,
   "metadata": {},
   "outputs": [
    {
     "name": "stdout",
     "output_type": "stream",
     "text": [
      "20\n",
      "20\n",
      "20\n",
      "20.0\n",
      "it is imposible to divied by zero\n"
     ]
    }
   ],
   "source": [
    "class Calculator:\n",
    "    def addition(self,a,b):\n",
    "        return a+b\n",
    "    def subtraction(self,a,b):\n",
    "        return a-b\n",
    "    def multiplication(self,a,b):\n",
    "        return a*b\n",
    "    def division(self,a,b):\n",
    "        try:\n",
    "            return a/b\n",
    "        except ZeroDivisionError:\n",
    "            return \"it is imposible to divied by zero\"\n",
    "        \n",
    "my_calculator = Calculator()\n",
    "temp = my_calculator.addition(10,10)\n",
    "print(temp)\n",
    "temp = my_calculator.subtraction(30,10)\n",
    "print(temp)\n",
    "temp = my_calculator.multiplication(5,4)\n",
    "print(temp)\n",
    "temp = my_calculator.division(100,5)\n",
    "print(temp)\n",
    "temp = my_calculator.division(10,0)\n",
    "print(temp)\n",
    "\n",
    "    "
   ]
  },
  {
   "cell_type": "code",
   "execution_count": 13,
   "metadata": {},
   "outputs": [
    {
     "ename": "FileNotFoundError",
     "evalue": "[Errno 2] No such file or directory: 'c:\\\\mahfu\\\\funny.txt'",
     "output_type": "error",
     "traceback": [
      "\u001b[1;31m---------------------------------------------------------------------------\u001b[0m",
      "\u001b[1;31mFileNotFoundError\u001b[0m                         Traceback (most recent call last)",
      "\u001b[1;32m<ipython-input-13-b7c681419249>\u001b[0m in \u001b[0;36m<module>\u001b[1;34m\u001b[0m\n\u001b[1;32m----> 1\u001b[1;33m \u001b[0mf\u001b[0m \u001b[1;33m=\u001b[0m \u001b[0mopen\u001b[0m\u001b[1;33m(\u001b[0m\u001b[1;34m\"c:\\\\mahfu\\\\funny.txt\"\u001b[0m\u001b[1;33m,\u001b[0m\u001b[1;34m\"w\"\u001b[0m\u001b[1;33m)\u001b[0m\u001b[1;33m\u001b[0m\u001b[1;33m\u001b[0m\u001b[0m\n\u001b[0m\u001b[0;32m      2\u001b[0m \u001b[0mf\u001b[0m\u001b[1;33m.\u001b[0m\u001b[0mwrite\u001b[0m\u001b[1;33m(\u001b[0m\u001b[1;34m\"i love programming\"\u001b[0m\u001b[1;33m)\u001b[0m\u001b[1;33m\u001b[0m\u001b[1;33m\u001b[0m\u001b[0m\n\u001b[0;32m      3\u001b[0m \u001b[0mf\u001b[0m\u001b[1;33m.\u001b[0m\u001b[0mclose\u001b[0m\u001b[1;33m(\u001b[0m\u001b[1;33m)\u001b[0m\u001b[1;33m\u001b[0m\u001b[1;33m\u001b[0m\u001b[0m\n",
      "\u001b[1;31mFileNotFoundError\u001b[0m: [Errno 2] No such file or directory: 'c:\\\\mahfu\\\\funny.txt'"
     ]
    }
   ],
   "source": [
    "f = open(\"c:\\\\mahfu\\\\funny.txt\",\"w\")\n",
    "f.write(\"i love programming\")\n",
    "f.close()"
   ]
  },
  {
   "cell_type": "code",
   "execution_count": null,
   "metadata": {},
   "outputs": [],
   "source": []
  }
 ],
 "metadata": {
  "kernelspec": {
   "display_name": "Python 3",
   "language": "python",
   "name": "python3"
  },
  "language_info": {
   "codemirror_mode": {
    "name": "ipython",
    "version": 3
   },
   "file_extension": ".py",
   "mimetype": "text/x-python",
   "name": "python",
   "nbconvert_exporter": "python",
   "pygments_lexer": "ipython3",
   "version": "3.7.6"
  }
 },
 "nbformat": 4,
 "nbformat_minor": 4
}
