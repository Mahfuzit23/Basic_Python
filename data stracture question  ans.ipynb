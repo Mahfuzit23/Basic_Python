{
 "cells": [
  {
   "cell_type": "code",
   "execution_count": null,
   "metadata": {},
   "outputs": [],
   "source": [
    "#1Taka two tuple and marge them and print as a one tuple\n",
    "tuple1 = (\"mahfuz\",21,11,12,33,13,31,\"coffe\")\n",
    "tuple2 = (\"moon\",22,32,23,24,42,\"coffe\")\n",
    "tuple3 = (tuple1+tuple2)\n",
    "print(tuple3)"
   ]
  },
  {
   "cell_type": "code",
   "execution_count": null,
   "metadata": {},
   "outputs": [],
   "source": [
    "t1 = list(tuple1)\n",
    "t2 = list(tuple2)\n",
    "t1.extend(t2)\n",
    "print(t1)\n",
    "t3 = tuple(t1)\n",
    "print(t3)\n",
    "\n"
   ]
  },
  {
   "cell_type": "code",
   "execution_count": null,
   "metadata": {},
   "outputs": [],
   "source": [
    "# 2 Take 2 set and find the common elements from them\n",
    "set1 = {11,\"mahfuz\",2,3,1,6,7,4,5,\"coffe\"}\n",
    "set2 = {\"mahfuz\",\"moon\",11,33,55,66,33,\"coffe\"}\n",
    "print(set1.intersection(set2))\n"
   ]
  },
  {
   "cell_type": "code",
   "execution_count": null,
   "metadata": {},
   "outputs": [],
   "source": [
    "# 3 Take a list and a tuple and marge them.\n",
    "lst = [\"mahfuz\",\"coffe\",1,1.1,12,2]\n",
    "tupl = (\"moon\",3,4,6,7,5,8,\"tea\")\n",
    "lst1 = list(tupl)\n",
    "print(lst+lst1)"
   ]
  },
  {
   "cell_type": "code",
   "execution_count": null,
   "metadata": {},
   "outputs": [],
   "source": [
    "lst.extend(lst1)\n",
    "print(lst)\n",
    "tupl = tuple(lst1)\n",
    "print(tupl)"
   ]
  },
  {
   "cell_type": "code",
   "execution_count": null,
   "metadata": {},
   "outputs": [],
   "source": [
    "# 4 Take a list as input which has 5 elemnts and print the elements in assending order.\n",
    "l = []\n",
    "for i in range(5):\n",
    "    data = int(input())\n",
    "    l.append(data)\n",
    "l.sort()\n",
    "print(l)\n",
    "        "
   ]
  },
  {
   "cell_type": "code",
   "execution_count": null,
   "metadata": {},
   "outputs": [],
   "source": [
    "# 5 Take a list and find the elements that are larger than their average.\n",
    "l = [11,22,3,4,5,6,]\n",
    "n = len(l)\n",
    "m = sum(l)\n",
    "avg = m/n\n",
    "for i in l:\n",
    "    if(i>avg):\n",
    "        print(i)\n",
    "print(avg)"
   ]
  },
  {
   "cell_type": "code",
   "execution_count": null,
   "metadata": {},
   "outputs": [],
   "source": [
    "#take a list and find the elements that are larger than their average\n",
    "lst = [1,2,4,5,6,7,9]\n",
    "n = len(lst)\n",
    "m = sum(lst)\n",
    "avg = m/n\n",
    "for i in lst:\n",
    "    if(i>avg):\n",
    "        print(i)\n",
    "print(avg)"
   ]
  },
  {
   "cell_type": "code",
   "execution_count": null,
   "metadata": {},
   "outputs": [],
   "source": [
    "# 6 Take a dictionary as input and print all the dictionalry and also print the keys that are even\n",
    "dic = {\"name\":\"mahfuz\",\"age\":26,2:\"apple\",3:\"egg\",4:\"banana\"}\n",
    "print(dic)\n",
    "for key in dic:\n",
    "    if(key%2==0):\n",
    "        print(key,end=\" \")"
   ]
  },
  {
   "cell_type": "code",
   "execution_count": null,
   "metadata": {},
   "outputs": [],
   "source": [
    "d = {0:\"mouse\",1:\"mobile\",2:\"book\",3:\"pan\",4:\"water\"}\n",
    "print(d)\n",
    "for key in d:\n",
    "    if(key%2==0):\n",
    "        print(key,end=\" \")"
   ]
  },
  {
   "cell_type": "code",
   "execution_count": null,
   "metadata": {},
   "outputs": [],
   "source": [
    "# 7 Take a list using input function and make two list from the list where one list contain even number\n",
    "# and another contain odd number.\n",
    "l = []\n",
    "n = int(input())\n",
    "for i in range(n):\n",
    "    data = int(input())\n",
    "    l.append(data)\n",
    "print(l)\n",
    "even = []\n",
    "odd = []\n",
    "for item in l:\n",
    "    if(item%2==0):\n",
    "        even.append(item)\n",
    "    else:\n",
    "         odd.append(item)\n",
    "print(\"even:\",even,\"\\n\",\"odd:\",odd)"
   ]
  },
  {
   "cell_type": "code",
   "execution_count": null,
   "metadata": {},
   "outputs": [],
   "source": [
    "# 8 Using the above two list find the union of the two list.\n",
    "even = set(even)\n",
    "odd = set(odd)\n",
    "print(even.union(odd))"
   ]
  },
  {
   "cell_type": "code",
   "execution_count": 5,
   "metadata": {},
   "outputs": [
    {
     "name": "stdout",
     "output_type": "stream",
     "text": [
      "{0, 1, 2, 3, 4, 5, 11, 12, 16, 23, 'mahfuz'}\n",
      "{3, 4, 12}\n"
     ]
    }
   ],
   "source": [
    "# 9 Take two set and find the set difference between them.\n",
    "set1 = {1,2,3,4,\"mahfuz\",11,12}\n",
    "set2 = {\"mahfuz\",0,1,2,5,11,16,23}\n",
    "print(set1.union(set2))\n",
    "print(set1.difference(set2))"
   ]
  },
  {
   "cell_type": "code",
   "execution_count": 6,
   "metadata": {},
   "outputs": [
    {
     "name": "stdout",
     "output_type": "stream",
     "text": [
      "{1, 2, 3, 4, 11}\n"
     ]
    }
   ],
   "source": [
    "# 10 Take two tuple and find the common elements between them.\n",
    "t = (11,12,13,14,1,2,3,4)\n",
    "t1 = (1,2,3,4,11,1,19,20)\n",
    "s = set(t)\n",
    "s1 = set(t1)\n",
    "print(s.intersection(s1))\n"
   ]
  },
  {
   "cell_type": "code",
   "execution_count": 7,
   "metadata": {},
   "outputs": [
    {
     "name": "stdout",
     "output_type": "stream",
     "text": [
      "556\n"
     ]
    }
   ],
   "source": [
    "# 11 Take a list and find the max, min and sum of the list.\n",
    "l = [11,22,33,44,556,55]\n",
    "print(max(l))"
   ]
  },
  {
   "cell_type": "code",
   "execution_count": 8,
   "metadata": {},
   "outputs": [
    {
     "name": "stdout",
     "output_type": "stream",
     "text": [
      "11\n"
     ]
    }
   ],
   "source": [
    "print(min(l))"
   ]
  },
  {
   "cell_type": "code",
   "execution_count": 9,
   "metadata": {},
   "outputs": [
    {
     "name": "stdout",
     "output_type": "stream",
     "text": [
      "721\n"
     ]
    }
   ],
   "source": [
    "print(sum(l))"
   ]
  },
  {
   "cell_type": "code",
   "execution_count": null,
   "metadata": {},
   "outputs": [],
   "source": []
  }
 ],
 "metadata": {
  "kernelspec": {
   "display_name": "Python 3",
   "language": "python",
   "name": "python3"
  },
  "language_info": {
   "codemirror_mode": {
    "name": "ipython",
    "version": 3
   },
   "file_extension": ".py",
   "mimetype": "text/x-python",
   "name": "python",
   "nbconvert_exporter": "python",
   "pygments_lexer": "ipython3",
   "version": "3.7.6"
  }
 },
 "nbformat": 4,
 "nbformat_minor": 4
}
