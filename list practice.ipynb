{
 "cells": [
  {
   "cell_type": "code",
   "execution_count": 1,
   "metadata": {},
   "outputs": [],
   "source": [
    "# ist index start with 0 to -1 with square bracket[]\n",
    "# first elements 0 second element 1 and last elements number -1\n",
    "# if i want to add any single element in the existing list then i have to use 'append' function.if i append any of data\n",
    "#it will show the nd of the list. we can change values at the particular index its called re assign sequence[4] = 100\n",
    "# to se del function we delete any particular index from the list del sequence[0]\n",
    "# posetive index start left to right[1] a = [1,2,3,4,5,6]\n",
    "# nagative index start right to left[-1] a=[-6,-5,-4,-3,-2,-1]"
   ]
  },
  {
   "cell_type": "code",
   "execution_count": 12,
   "metadata": {},
   "outputs": [
    {
     "name": "stdout",
     "output_type": "stream",
     "text": [
      "[10, 20, 30, 40, 100]\n",
      "[20, 30, 40, 100]\n"
     ]
    },
    {
     "data": {
      "text/plain": [
       "0"
      ]
     },
     "execution_count": 12,
     "metadata": {},
     "output_type": "execute_result"
    }
   ],
   "source": [
    "sequence = [10,20,30,40,50,] # 0=[10] 1=[20] 2=[30] 3=[40] 4=[50] 5= -50 erorr index\n",
    "\n",
    "sequence[4] = 100\n",
    "print(sequence)\n",
    "del sequence[0]\n",
    "print(sequence)\n",
    "sequence.count(0)"
   ]
  },
  {
   "cell_type": "code",
   "execution_count": 15,
   "metadata": {},
   "outputs": [
    {
     "name": "stdout",
     "output_type": "stream",
     "text": [
      "['mahfuz', 1111, 'apple', 22.22, 0.33, 'mangoes']\n",
      "0\n"
     ]
    }
   ],
   "source": [
    "list1 = [\"mahfuz\",1111,\"apple\",22.22,00.33,\"mangoes\"]\n",
    "print(list1)\n",
    "print(list1.count(1))"
   ]
  },
  {
   "cell_type": "code",
   "execution_count": 2,
   "metadata": {},
   "outputs": [
    {
     "name": "stdout",
     "output_type": "stream",
     "text": [
      "6\n"
     ]
    }
   ],
   "source": [
    "print(len(list1))"
   ]
  },
  {
   "cell_type": "code",
   "execution_count": 19,
   "metadata": {},
   "outputs": [
    {
     "name": "stdout",
     "output_type": "stream",
     "text": [
      "0\n"
     ]
    }
   ],
   "source": [
    "lst = [1,12,13,14,4,41,22,23,24]\n",
    "print(lst.count(2))"
   ]
  },
  {
   "cell_type": "code",
   "execution_count": 3,
   "metadata": {},
   "outputs": [
    {
     "name": "stdout",
     "output_type": "stream",
     "text": [
      "0 mahfuz\n",
      "1 1111\n",
      "2 apple\n",
      "3 22.22\n",
      "4 0.33\n",
      "5 mangoes\n"
     ]
    }
   ],
   "source": [
    "for i, item in enumerate(list1):\n",
    "    print(i,item)"
   ]
  },
  {
   "cell_type": "code",
   "execution_count": 4,
   "metadata": {},
   "outputs": [
    {
     "name": "stdout",
     "output_type": "stream",
     "text": [
      "[1111, 'apple']\n"
     ]
    }
   ],
   "source": [
    "print(list1[1:3])"
   ]
  },
  {
   "cell_type": "code",
   "execution_count": 5,
   "metadata": {},
   "outputs": [
    {
     "name": "stdout",
     "output_type": "stream",
     "text": [
      "['mahfuz', 1111, 'apple', 22.22, 0.33]\n"
     ]
    }
   ],
   "source": [
    "print(list1[:5])"
   ]
  },
  {
   "cell_type": "code",
   "execution_count": 6,
   "metadata": {},
   "outputs": [
    {
     "name": "stdout",
     "output_type": "stream",
     "text": [
      "[22.22, 0.33, 'mangoes']\n"
     ]
    }
   ],
   "source": [
    "print(list1[3:])"
   ]
  },
  {
   "cell_type": "code",
   "execution_count": 7,
   "metadata": {},
   "outputs": [
    {
     "name": "stdout",
     "output_type": "stream",
     "text": [
      "['mahfuz', 1111, 'apple', 22.22, 0.33, 'mangoes']\n"
     ]
    }
   ],
   "source": [
    "print(list1[:6])"
   ]
  },
  {
   "cell_type": "code",
   "execution_count": 8,
   "metadata": {},
   "outputs": [
    {
     "name": "stdout",
     "output_type": "stream",
     "text": [
      "['mahfuz', 1111, 'apple', 22.22, 0.33, 'mangoes']\n"
     ]
    }
   ],
   "source": [
    "print(list1[0:6])"
   ]
  },
  {
   "cell_type": "code",
   "execution_count": 9,
   "metadata": {},
   "outputs": [
    {
     "name": "stdout",
     "output_type": "stream",
     "text": [
      "['mahfuz', 1111, 'apple', 22.22, 0.33, 'mangoes']\n"
     ]
    }
   ],
   "source": [
    "print(list1[0:])"
   ]
  },
  {
   "cell_type": "code",
   "execution_count": 10,
   "metadata": {},
   "outputs": [
    {
     "name": "stdout",
     "output_type": "stream",
     "text": [
      "0 mahfuz\n",
      "1 1111\n",
      "2 apple\n",
      "3 22.22\n",
      "4 0.33\n",
      "5 mangoes\n"
     ]
    }
   ],
   "source": [
    "for i, item in enumerate(list1):\n",
    "    print(i,item)"
   ]
  },
  {
   "cell_type": "code",
   "execution_count": 11,
   "metadata": {},
   "outputs": [
    {
     "name": "stdout",
     "output_type": "stream",
     "text": [
      "apple\n"
     ]
    }
   ],
   "source": [
    "print(list1[2])"
   ]
  },
  {
   "cell_type": "code",
   "execution_count": 12,
   "metadata": {},
   "outputs": [
    {
     "name": "stdout",
     "output_type": "stream",
     "text": [
      "['mahfuz', 1111, 'apple', 22.22, 0.33, 'mangoes', 'mobile']\n"
     ]
    }
   ],
   "source": [
    "list1.append('mobile')# add something in a list called append # append means add element in the last\n",
    "\n",
    "print(list1)"
   ]
  },
  {
   "cell_type": "code",
   "execution_count": 13,
   "metadata": {},
   "outputs": [
    {
     "name": "stdout",
     "output_type": "stream",
     "text": [
      "['mahfuz', 1111, 'Italy', 'apple', 22.22, 0.33, 'mangoes', 'mobile']\n"
     ]
    }
   ],
   "source": [
    "# insert means put a element in a desire index\n",
    "\n",
    "list1.insert(2,'Italy')\n",
    "\n",
    "print(list1)"
   ]
  },
  {
   "cell_type": "code",
   "execution_count": 14,
   "metadata": {},
   "outputs": [
    {
     "name": "stdout",
     "output_type": "stream",
     "text": [
      "['mahfuz', 1111, 'Italy', 'apple', 'water', 22.22, 0.33, 'mangoes', 'mobile']\n"
     ]
    }
   ],
   "source": [
    "list1.insert(4,'water')\n",
    "print(list1)"
   ]
  },
  {
   "cell_type": "code",
   "execution_count": 15,
   "metadata": {},
   "outputs": [
    {
     "name": "stdout",
     "output_type": "stream",
     "text": [
      "['coca', 'fanta', 0.88, '7up', 'lemon', 666]\n"
     ]
    }
   ],
   "source": [
    "# add a list in another list is called extend.\n",
    "list2 = [\"coca\", \"fanta\", 00.88, \"7up\",\"lemon\",666]\n",
    "print(list2)"
   ]
  },
  {
   "cell_type": "code",
   "execution_count": 16,
   "metadata": {},
   "outputs": [
    {
     "name": "stdout",
     "output_type": "stream",
     "text": [
      "['mahfuz', 1111, 'Italy', 'apple', 'water', 22.22, 0.33, 'mangoes', 'mobile', 'coca', 'fanta', 0.88, '7up', 'lemon', 666]\n"
     ]
    }
   ],
   "source": [
    "list1.extend(list2)\n",
    "print(list1)"
   ]
  },
  {
   "cell_type": "code",
   "execution_count": 17,
   "metadata": {},
   "outputs": [
    {
     "name": "stdout",
     "output_type": "stream",
     "text": [
      "[['lion', 'tiger', 66, 'patato', 66], [44, 77, 7.88, 'dog', 'cat']]\n"
     ]
    }
   ],
   "source": [
    "list0 = []\n",
    "list00 = [\"lion\",\"tiger\",66,\"patato\",66]\n",
    "list000 = [44,77,7.88,\"dog\",\"cat\"]\n",
    "list0.append(list00)\n",
    "list0.append(list000)\n",
    "print(list0)"
   ]
  },
  {
   "cell_type": "code",
   "execution_count": 18,
   "metadata": {},
   "outputs": [
    {
     "name": "stdout",
     "output_type": "stream",
     "text": [
      "[1, 5, 3, 7, 2, 4]\n"
     ]
    }
   ],
   "source": [
    "# Delete element from a list\n",
    "# using remove and pop\n",
    "mahfuz = [1,5,3,7,2,4,6]\n",
    "mahfuz.pop()\n",
    "print(mahfuz)"
   ]
  },
  {
   "cell_type": "code",
   "execution_count": 19,
   "metadata": {},
   "outputs": [
    {
     "name": "stdout",
     "output_type": "stream",
     "text": [
      "[1, 5, 3, 7, 2]\n"
     ]
    }
   ],
   "source": [
    "mahfuz.remove(4)\n",
    "print(mahfuz)"
   ]
  },
  {
   "cell_type": "code",
   "execution_count": 20,
   "metadata": {},
   "outputs": [
    {
     "name": "stdout",
     "output_type": "stream",
     "text": [
      "[2, 7, 3, 5, 1]\n"
     ]
    }
   ],
   "source": [
    "mahfuz.reverse()\n",
    "print(mahfuz)"
   ]
  },
  {
   "cell_type": "code",
   "execution_count": 21,
   "metadata": {},
   "outputs": [
    {
     "name": "stdout",
     "output_type": "stream",
     "text": [
      "[1, 2, 3, 5, 7]\n"
     ]
    }
   ],
   "source": [
    "#we can sort a list into two ways\n",
    "#1 assending (small to large)\n",
    "#2 desending (largeto small)\n",
    "mahfuz.sort()\n",
    "print(mahfuz)"
   ]
  },
  {
   "cell_type": "code",
   "execution_count": 22,
   "metadata": {},
   "outputs": [
    {
     "name": "stdout",
     "output_type": "stream",
     "text": [
      "[7, 5, 3, 2, 1]\n"
     ]
    }
   ],
   "source": [
    "mahfuz.sort(reverse=True)\n",
    "print(mahfuz)"
   ]
  },
  {
   "cell_type": "code",
   "execution_count": 23,
   "metadata": {},
   "outputs": [
    {
     "name": "stdout",
     "output_type": "stream",
     "text": [
      "1\n"
     ]
    }
   ],
   "source": [
    "print(min(mahfuz))"
   ]
  },
  {
   "cell_type": "code",
   "execution_count": 24,
   "metadata": {},
   "outputs": [
    {
     "name": "stdout",
     "output_type": "stream",
     "text": [
      "7\n"
     ]
    }
   ],
   "source": [
    "print(max(mahfuz))"
   ]
  },
  {
   "cell_type": "code",
   "execution_count": 25,
   "metadata": {},
   "outputs": [
    {
     "name": "stdout",
     "output_type": "stream",
     "text": [
      "18\n"
     ]
    }
   ],
   "source": [
    "print(sum(mahfuz))"
   ]
  },
  {
   "cell_type": "code",
   "execution_count": 26,
   "metadata": {},
   "outputs": [
    {
     "name": "stdout",
     "output_type": "stream",
     "text": [
      "4\n"
     ]
    }
   ],
   "source": [
    "print(mahfuz.index(1))"
   ]
  },
  {
   "cell_type": "code",
   "execution_count": 27,
   "metadata": {},
   "outputs": [
    {
     "name": "stdout",
     "output_type": "stream",
     "text": [
      "5\n"
     ]
    }
   ],
   "source": [
    "lst = [1,3,2,5,7,2,4]\n",
    "print(lst[3])"
   ]
  },
  {
   "cell_type": "code",
   "execution_count": 28,
   "metadata": {},
   "outputs": [
    {
     "name": "stdout",
     "output_type": "stream",
     "text": [
      "True\n"
     ]
    }
   ],
   "source": [
    "print(4 in lst)"
   ]
  },
  {
   "cell_type": "code",
   "execution_count": 29,
   "metadata": {},
   "outputs": [
    {
     "name": "stdout",
     "output_type": "stream",
     "text": [
      "6\n"
     ]
    }
   ],
   "source": [
    "print(lst.index(4))"
   ]
  },
  {
   "cell_type": "code",
   "execution_count": 30,
   "metadata": {},
   "outputs": [
    {
     "name": "stdout",
     "output_type": "stream",
     "text": [
      "True 6\n"
     ]
    }
   ],
   "source": [
    "print(4 in lst,lst.index(4))"
   ]
  },
  {
   "cell_type": "code",
   "execution_count": 31,
   "metadata": {},
   "outputs": [
    {
     "name": "stdout",
     "output_type": "stream",
     "text": [
      "1 3 2 5 7 2 4 "
     ]
    }
   ],
   "source": [
    "for i in lst:\n",
    "    print(i,end=\" \")"
   ]
  },
  {
   "cell_type": "code",
   "execution_count": 32,
   "metadata": {},
   "outputs": [
    {
     "name": "stdout",
     "output_type": "stream",
     "text": [
      "[1, 2, 2, 3, 4, 5, 7]\n"
     ]
    }
   ],
   "source": [
    "lst.sort()\n",
    "print(lst)"
   ]
  },
  {
   "cell_type": "code",
   "execution_count": 33,
   "metadata": {},
   "outputs": [
    {
     "name": "stdout",
     "output_type": "stream",
     "text": [
      "[1, 2, 3, 4, 5, 7]\n"
     ]
    }
   ],
   "source": [
    "lst.remove(2)\n",
    "print(lst)"
   ]
  },
  {
   "cell_type": "code",
   "execution_count": 34,
   "metadata": {},
   "outputs": [
    {
     "name": "stdout",
     "output_type": "stream",
     "text": [
      "[1, 2, 3, 4, 6, 5, 7]\n"
     ]
    }
   ],
   "source": [
    "lst.insert(4,6)\n",
    "print(lst)"
   ]
  },
  {
   "cell_type": "code",
   "execution_count": 35,
   "metadata": {},
   "outputs": [
    {
     "name": "stdout",
     "output_type": "stream",
     "text": [
      "[1, 2, 3, 4, 5, 7]\n"
     ]
    }
   ],
   "source": [
    "lst.remove(6)\n",
    "print(lst)"
   ]
  },
  {
   "cell_type": "code",
   "execution_count": 36,
   "metadata": {},
   "outputs": [
    {
     "name": "stdout",
     "output_type": "stream",
     "text": [
      "[1, 2, 3, 4, 5, 6, 7]\n"
     ]
    }
   ],
   "source": [
    "lst.insert(5,6)\n",
    "print(lst)"
   ]
  },
  {
   "cell_type": "code",
   "execution_count": 46,
   "metadata": {},
   "outputs": [
    {
     "name": "stdout",
     "output_type": "stream",
     "text": [
      "\n",
      "\n",
      "['22', '33', '44']\n"
     ]
    }
   ],
   "source": [
    "print('\\n')\n",
    "print(lst3)"
   ]
  },
  {
   "cell_type": "code",
   "execution_count": 47,
   "metadata": {},
   "outputs": [
    {
     "name": "stdout",
     "output_type": "stream",
     "text": [
      "md ahfuz alam 26\n"
     ]
    }
   ],
   "source": [
    "name = [\"md\",\"ahfuz\",\"alam\",str(26)]\n",
    "full_name =\" \".join(name)\n",
    "print(full_name)"
   ]
  },
  {
   "cell_type": "code",
   "execution_count": 48,
   "metadata": {},
   "outputs": [
    {
     "name": "stdout",
     "output_type": "stream",
     "text": [
      "['md', 'ahfuz', 'alam', '26']\n"
     ]
    }
   ],
   "source": [
    "new_lst = full_name.split(\" \")\n",
    "print(new_lst)"
   ]
  },
  {
   "cell_type": "code",
   "execution_count": 40,
   "metadata": {},
   "outputs": [
    {
     "name": "stdout",
     "output_type": "stream",
     "text": [
      "[111, 222, 444]\n"
     ]
    }
   ],
   "source": [
    "lst1 = [63,62,77]\n",
    "lst2 = [111,222,444]\n",
    "lst1 = lst2\n",
    "print(lst1)"
   ]
  },
  {
   "cell_type": "code",
   "execution_count": 42,
   "metadata": {},
   "outputs": [
    {
     "name": "stdout",
     "output_type": "stream",
     "text": [
      "\n",
      "\n",
      "['22', '33', '44']\n"
     ]
    }
   ],
   "source": []
  },
  {
   "cell_type": "code",
   "execution_count": 49,
   "metadata": {},
   "outputs": [
    {
     "name": "stdout",
     "output_type": "stream",
     "text": [
      "3\n",
      "11\n",
      "['11']\n",
      "22\n",
      "['11', '22']\n",
      "44\n",
      "['11', '22', '44']\n"
     ]
    }
   ],
   "source": [
    "lst3 = []\n",
    "n = int(input())\n",
    "for i in range(n):\n",
    "    item = input()\n",
    "    lst3.append(item)\n",
    "    print(lst3)\n"
   ]
  },
  {
   "cell_type": "code",
   "execution_count": 50,
   "metadata": {},
   "outputs": [
    {
     "name": "stdout",
     "output_type": "stream",
     "text": [
      "n = 3\n",
      "11\n",
      "22\n",
      "44\n",
      "['11', '22', '44']\n"
     ]
    }
   ],
   "source": [
    "# input from user\n",
    "lst4 = []\n",
    "n = int(input(\"n = \"))\n",
    "for i in range(n):\n",
    "    item = input()\n",
    "    lst4.append(item)\n",
    "print(lst4)\n",
    "    "
   ]
  },
  {
   "cell_type": "code",
   "execution_count": null,
   "metadata": {},
   "outputs": [],
   "source": []
  },
  {
   "cell_type": "code",
   "execution_count": null,
   "metadata": {},
   "outputs": [],
   "source": []
  }
 ],
 "metadata": {
  "kernelspec": {
   "display_name": "Python 3",
   "language": "python",
   "name": "python3"
  },
  "language_info": {
   "codemirror_mode": {
    "name": "ipython",
    "version": 3
   },
   "file_extension": ".py",
   "mimetype": "text/x-python",
   "name": "python",
   "nbconvert_exporter": "python",
   "pygments_lexer": "ipython3",
   "version": "3.7.6"
  }
 },
 "nbformat": 4,
 "nbformat_minor": 4
}
