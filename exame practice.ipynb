{
 "cells": [
  {
   "cell_type": "code",
   "execution_count": null,
   "metadata": {},
   "outputs": [],
   "source": [
    "#1. Take your name, age, gender and phone number as input via variable and print them using one print function.\n",
    "#Look carefully name, age, gender and phone number should be in different line.\n",
    "\n",
    "name = \"mahfuz\"\n",
    "age = str(26)\n",
    "gender = \"male\"\n",
    "phone_number = str(3891766193)\n",
    "print(name,\"\\n\",age,\"\\n\",gender,\"\\n\",phone_number)"
   ]
  },
  {
   "cell_type": "code",
   "execution_count": null,
   "metadata": {},
   "outputs": [],
   "source": [
    "#2. Take three number as input and find the average of the number and print if, then also print the difference between \n",
    "#the max numberand the average.\n",
    "a = int(input(\"a = \"))\n",
    "b = int(input(\"b = \"))\n",
    "c = int(input(\"c = \"))\n",
    "average = (a+b+c)/3\n",
    "if(a>b and a>c):\n",
    "    max = a\n",
    "elif(b>a and b>c):\n",
    "    max = b\n",
    "else:\n",
    "    max = c\n",
    "different = max-average\n",
    "print(\"different between the max and average = \",average,different)"
   ]
  },
  {
   "cell_type": "code",
   "execution_count": null,
   "metadata": {},
   "outputs": [],
   "source": [
    "#3. Print all even from from 1 to n and here take input the value of n\n",
    "n = int(input(\"n = \"))\n",
    "i = 1\n",
    "while(i<=n):\n",
    "    if(i%2==0):\n",
    "        print(\"the even num is = \",i,end=\" \"\",\")\n",
    "    i+=1"
   ]
  },
  {
   "cell_type": "code",
   "execution_count": null,
   "metadata": {},
   "outputs": [],
   "source": [
    "#4. Take a number as input and print from n to 0 using for loop\n",
    "n = int(input(\"n = \"))\n",
    "for i in range(n,0-1,-1):\n",
    "    print(i,end=\" \")\n"
   ]
  },
  {
   "cell_type": "code",
   "execution_count": null,
   "metadata": {},
   "outputs": [],
   "source": [
    "n =int(input(\"n = \"))\n",
    "i = 1\n",
    "while(n>=i):\n",
    "    print(\"n to 0 num is = \",n,end=\" \"\",\")\n",
    "    n-=1"
   ]
  },
  {
   "cell_type": "code",
   "execution_count": null,
   "metadata": {},
   "outputs": [],
   "source": [
    "#5. Take a number as input and print even and odd form 1 to n like following.\n",
    "n = int(input())\n",
    "i = 1\n",
    "while(i<=n):\n",
    "    if(i%2==0):\n",
    "        print(\"%d,even\"%i)\n",
    "    else:\n",
    "        print(\"%d,odd\"%i)\n",
    "    i+=1"
   ]
  },
  {
   "cell_type": "code",
   "execution_count": null,
   "metadata": {},
   "outputs": [],
   "source": [
    "n = int(input())\n",
    "i = 1\n",
    "while(i<=n):\n",
    "    if(i%2==0):\n",
    "        print(i,\"even\")\n",
    "    else:\n",
    "        print(i, \"odd\")\n",
    "    i+=1"
   ]
  },
  {
   "cell_type": "code",
   "execution_count": null,
   "metadata": {},
   "outputs": [],
   "source": [
    "n = int(input())\n",
    "for i in range(1,n+1,1):\n",
    "    if(i%2==0):\n",
    "        print(\"%d,even\"%i)\n",
    "    else:\n",
    "        print(\"%d,odd\"%i)"
   ]
  },
  {
   "cell_type": "code",
   "execution_count": null,
   "metadata": {},
   "outputs": [],
   "source": [
    "#6. Take a number n as input and find the number of even and odd number from from 1 to n\n",
    "n = int(input(\"n = \"))\n",
    "e = 0\n",
    "o = 0\n",
    "i = 1\n",
    "while(i<=n):\n",
    "    if(i%2==0):\n",
    "        e+= 1\n",
    "    else:\n",
    "        o+=1\n",
    "    i+=1\n",
    "print(\"even= %d and odd = %d\"%(e,o))"
   ]
  },
  {
   "cell_type": "code",
   "execution_count": null,
   "metadata": {},
   "outputs": [],
   "source": [
    "n = int(input())\n",
    "e = 0\n",
    "o = 0\n",
    "for i in range(1,n+1):\n",
    "    if(i%2==0):\n",
    "        e+=1\n",
    "    else:\n",
    "        o+=1\n",
    "print(\"even = %d and odd = %d\"%(e,o))"
   ]
  },
  {
   "cell_type": "code",
   "execution_count": null,
   "metadata": {},
   "outputs": [],
   "source": [
    "#7. Taka n and m as input and print from 1 to m, for n times.\n",
    "n = int(input())\n",
    "m = int(input())\n",
    "i = 1\n",
    "while(i<=n):\n",
    "    for j in range(1,m+1):\n",
    "         print(j,end=\" \")\n",
    "    print(\"\\n\")\n",
    "    i+=1"
   ]
  },
  {
   "cell_type": "code",
   "execution_count": 3,
   "metadata": {},
   "outputs": [
    {
     "name": "stdout",
     "output_type": "stream",
     "text": [
      "4\n",
      "4\n",
      "1 2 3 4 \n",
      "\n",
      "1 2 3 4 \n",
      "\n",
      "1 2 3 4 \n",
      "\n",
      "1 2 3 4 \n",
      "\n"
     ]
    }
   ],
   "source": [
    "n = int(input())\n",
    "m = int(input())\n",
    "i = 1\n",
    "while(i<=n):\n",
    "    j = 1\n",
    "    while(j<=n):\n",
    "        print(j,end=\" \")\n",
    "        j = j+1\n",
    "    print(\"\\n\")\n",
    "    i = i+1"
   ]
  },
  {
   "cell_type": "code",
   "execution_count": 2,
   "metadata": {},
   "outputs": [
    {
     "name": "stdout",
     "output_type": "stream",
     "text": [
      "3\n",
      "3\n",
      "1 2 3 \n",
      "\n",
      "1 2 3 \n",
      "\n",
      "1 2 3 \n",
      "\n"
     ]
    }
   ],
   "source": [
    "n = int(input())\n",
    "m = int(input())\n",
    "for i in range(1,n+1,1):\n",
    "    for j in range(1,m+1,1):\n",
    "        print(j,end=\" \")\n",
    "    print(\"\\n\")"
   ]
  },
  {
   "cell_type": "code",
   "execution_count": 4,
   "metadata": {},
   "outputs": [
    {
     "name": "stdout",
     "output_type": "stream",
     "text": [
      "5\n",
      "1 \n",
      "\n",
      "1 2 \n",
      "\n",
      "1 2 3 \n",
      "\n",
      "1 2 3 4 \n",
      "\n",
      "1 2 3 4 5 \n",
      "\n"
     ]
    }
   ],
   "source": [
    "#8. Try to write the following pattern\n",
    "n = int(input())\n",
    "for i in range(1,n+1):\n",
    "    j = 1\n",
    "    while(j<=i):\n",
    "        print(j,end=\" \")\n",
    "        j+=1\n",
    "    print(\"\\n\")\n",
    "    "
   ]
  },
  {
   "cell_type": "code",
   "execution_count": null,
   "metadata": {},
   "outputs": [],
   "source": [
    "#9. Take a number as input and find the average between 1 to n\n",
    "n = int(input())\n",
    "sum = 0\n",
    "for i in range(n+1):\n",
    "    sum+=i\n",
    "avg = sum/n\n",
    "print(avg)\n"
   ]
  },
  {
   "cell_type": "code",
   "execution_count": null,
   "metadata": {},
   "outputs": [],
   "source": [
    "n = int(input())\n",
    "sum = 0\n",
    "i = 1\n",
    "while(i<=n):\n",
    "    sum+=i\n",
    "    i+=1\n",
    "avg = sum/n\n",
    "print(avg)"
   ]
  },
  {
   "cell_type": "code",
   "execution_count": null,
   "metadata": {},
   "outputs": [],
   "source": [
    "#10 write a code take no input but print goodbye 10 time\n",
    "i = 1\n",
    "while(i<=10):\n",
    "    print(\"goodbye\")\n",
    "    i+=1"
   ]
  },
  {
   "cell_type": "code",
   "execution_count": null,
   "metadata": {},
   "outputs": [],
   "source": [
    "#11 take two number as input and find the smallest number between them.\n",
    "a = int(input())\n",
    "b = int(input())\n",
    "if(a<b):\n",
    "    print(\"a,is smallest\")\n",
    "else:\n",
    "    print (\"b, is smallest\")"
   ]
  },
  {
   "cell_type": "code",
   "execution_count": 6,
   "metadata": {},
   "outputs": [
    {
     "name": "stdout",
     "output_type": "stream",
     "text": [
      "5\n",
      "6\n",
      "8\n",
      "True\n"
     ]
    }
   ],
   "source": [
    "#12take 3 number as input and find the truth value of the expression (a+b)<(a*c)\n",
    "a = int(input())\n",
    "b = int(input())\n",
    "c = int(input())\n",
    "d = (a+b)<(a*c)\n",
    "print(d)"
   ]
  },
  {
   "cell_type": "markdown",
   "metadata": {},
   "source": []
  },
  {
   "cell_type": "code",
   "execution_count": null,
   "metadata": {},
   "outputs": [],
   "source": [
    "#13 take a number as input and if the number is even and greater than 10 then print yes, weather print no.\n",
    "n = int(input(\"n = \"))\n",
    "if(n%2==0):\n",
    "    if(n>10):\n",
    "        print(\"yes\")\n",
    "else:\n",
    "    print(\"no\")"
   ]
  },
  {
   "cell_type": "code",
   "execution_count": null,
   "metadata": {},
   "outputs": [],
   "source": [
    "#14 take 2 number as input and find the difference between the division and floor division of the two number.\n",
    "a = int(input())\n",
    "b = int(input())\n",
    "difference = (a/b)-(a//b)\n",
    "print(difference)"
   ]
  },
  {
   "cell_type": "code",
   "execution_count": null,
   "metadata": {},
   "outputs": [],
   "source": [
    "#15 take two number as input and divide the largest number by the smallest number . in here,\n",
    "#at first you should find the largest number then perform the division operation.\n",
    "a = int(input())\n",
    "b = int(input())\n",
    "if(a>b):\n",
    "    print(a/b)\n",
    "else:\n",
    "    print(b/a)"
   ]
  },
  {
   "cell_type": "code",
   "execution_count": 7,
   "metadata": {},
   "outputs": [
    {
     "name": "stdout",
     "output_type": "stream",
     "text": [
      "5\n",
      "5\n",
      "5 4 3 2 1 \n",
      "\n",
      "5 4 3 2 1 \n",
      "\n",
      "5 4 3 2 1 \n",
      "\n",
      "5 4 3 2 1 \n",
      "\n",
      "5 4 3 2 1 \n",
      "\n"
     ]
    }
   ],
   "source": [
    "#16 take two number n and m as input and print from n to 1 for m timee. you can use any loop.\n",
    "n = int(input())\n",
    "m = int(input())\n",
    "i = 1\n",
    "while(i<=m):\n",
    "    for j in range(n,0,-1):\n",
    "        print(j,end=\" \")\n",
    "    print(\"\\n\")\n",
    "    i+=1\n",
    "        "
   ]
  },
  {
   "cell_type": "code",
   "execution_count": null,
   "metadata": {},
   "outputs": [],
   "source": [
    "n = int(input())\n",
    "m = int(input())\n",
    "i = 1\n",
    "while(i<=m):\n",
    "    j = n\n",
    "    while(j>=1):\n",
    "        print(j,end=\" \")\n",
    "        j-=1\n",
    "    print(\"\\n\")\n",
    "    i+=1\n",
    "    "
   ]
  },
  {
   "cell_type": "code",
   "execution_count": 8,
   "metadata": {},
   "outputs": [
    {
     "name": "stdout",
     "output_type": "stream",
     "text": [
      "5\n",
      "4\n",
      "5 4 3 2 1 \n",
      "\n",
      "5 4 3 2 1 \n",
      "\n",
      "5 4 3 2 1 \n",
      "\n",
      "5 4 3 2 1 \n",
      "\n"
     ]
    }
   ],
   "source": [
    "n = int(input())\n",
    "m = int(input())\n",
    "for i in range(m):\n",
    "    for j in range(n,0,-1):\n",
    "        print(j,end=\" \")\n",
    "    print(\"\\n\")"
   ]
  },
  {
   "cell_type": "markdown",
   "metadata": {},
   "source": [
    "# 17"
   ]
  },
  {
   "cell_type": "code",
   "execution_count": 16,
   "metadata": {},
   "outputs": [
    {
     "name": "stdout",
     "output_type": "stream",
     "text": [
      "5\n",
      "5*1 = 5\n",
      "5*2 = 10\n",
      "5*3 = 15\n",
      "5*4 = 20\n",
      "5*5 = 25\n",
      "5*6 = 30\n",
      "5*7 = 35\n",
      "5*8 = 40\n",
      "5*9 = 45\n",
      "5*10 = 50\n"
     ]
    }
   ],
   "source": [
    "#17 print the multiflication table of n\n",
    "n = int(input())\n",
    "i = 1\n",
    "while(i<=10):\n",
    "    print(\"%d*%d = %d\"%(n,i,n*i))\n",
    "    i= i+1\n"
   ]
  },
  {
   "cell_type": "code",
   "execution_count": 13,
   "metadata": {},
   "outputs": [
    {
     "name": "stdout",
     "output_type": "stream",
     "text": [
      "4\n",
      "4*1 = 4\n",
      "4*2 = 8\n",
      "4*3 = 12\n",
      "4*4 = 16\n",
      "4*5 = 20\n",
      "4*6 = 24\n",
      "4*7 = 28\n",
      "4*8 = 32\n",
      "4*9 = 36\n",
      "4*10 = 40\n"
     ]
    }
   ],
   "source": [
    "n = int(input())\n",
    "for i in range(1,11):\n",
    "    print(\"%d*%d = %d\"%(n,i,n*i))"
   ]
  },
  {
   "cell_type": "code",
   "execution_count": 19,
   "metadata": {},
   "outputs": [
    {
     "name": "stdout",
     "output_type": "stream",
     "text": [
      "a = 16\n",
      "b = 9\n",
      "175\n"
     ]
    }
   ],
   "source": [
    "#18take two numbers as input and multiply the addition and subtraction of the two numbers.\n",
    "a = int(input(\"a = \"))\n",
    "b = int(input(\"b = \"))\n",
    "c = (a+b)\n",
    "d = (a-b)\n",
    "e = (c*d)\n",
    "print(e)"
   ]
  },
  {
   "cell_type": "code",
   "execution_count": 20,
   "metadata": {},
   "outputs": [
    {
     "name": "stdout",
     "output_type": "stream",
     "text": [
      "n = 10\n",
      "25\n"
     ]
    }
   ],
   "source": [
    "#20 take n as input and print the sum of the odd number from 1 to n.\n",
    "n = int(input(\"n = \"))\n",
    "sum = 0\n",
    "i = 1\n",
    "while(i<=n):\n",
    "    if(i%2==1):\n",
    "        sum = sum+i\n",
    "    i+=1\n",
    "print(sum)"
   ]
  },
  {
   "cell_type": "code",
   "execution_count": null,
   "metadata": {},
   "outputs": [],
   "source": []
  }
 ],
 "metadata": {
  "kernelspec": {
   "display_name": "Python 3",
   "language": "python",
   "name": "python3"
  },
  "language_info": {
   "codemirror_mode": {
    "name": "ipython",
    "version": 3
   },
   "file_extension": ".py",
   "mimetype": "text/x-python",
   "name": "python",
   "nbconvert_exporter": "python",
   "pygments_lexer": "ipython3",
   "version": "3.7.6"
  }
 },
 "nbformat": 4,
 "nbformat_minor": 4
}
