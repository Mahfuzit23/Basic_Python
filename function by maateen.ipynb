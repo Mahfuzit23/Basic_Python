{
 "cells": [
  {
   "cell_type": "code",
   "execution_count": null,
   "metadata": {},
   "outputs": [],
   "source": [
    " # দুটি সংখ্যার GCD বের করার জন্য একটি ফাংশন লিখতে হবে।\n",
    "def gcd(a,b):\n",
    "    if b == 0:\n",
    "        return a\n",
    "    else:\n",
    "        return gcd(b,a%b)\n",
    "num1 = int(input())\n",
    "num2 = int(input())\n",
    "print(gcd(num1,num2))"
   ]
  },
  {
   "cell_type": "code",
   "execution_count": null,
   "metadata": {},
   "outputs": [],
   "source": [
    "def gcd(a,b):\n",
    "    if b > a:\n",
    "        gcd(b,a)\n",
    "    while b != 0:\n",
    "        temp = a % b\n",
    "        a = b\n",
    "        b = temp\n",
    "    return a\n",
    "a,b = map(int, input(\"enter two integer: \").split())\n",
    "print(\"great command divisor is: \",gcd(a,b))"
   ]
  },
  {
   "cell_type": "code",
   "execution_count": null,
   "metadata": {},
   "outputs": [],
   "source": [
    "# prime number\n",
    "n = int(input(\"enter the number: \"))\n",
    "i = 2\n",
    "count = 0\n",
    "while(i < n):\n",
    "    if(n % i) == 0:\n",
    "        count = 1\n",
    "        break\n",
    "    else:\n",
    "        i = i + 1\n",
    "if(count == 0):\n",
    "    print(\"prime\")\n",
    "else:\n",
    "    print(\"composit\")"
   ]
  },
  {
   "cell_type": "code",
   "execution_count": null,
   "metadata": {},
   "outputs": [],
   "source": []
  },
  {
   "cell_type": "code",
   "execution_count": null,
   "metadata": {},
   "outputs": [],
   "source": []
  }
 ],
 "metadata": {
  "kernelspec": {
   "display_name": "Python 3",
   "language": "python",
   "name": "python3"
  },
  "language_info": {
   "codemirror_mode": {
    "name": "ipython",
    "version": 3
   },
   "file_extension": ".py",
   "mimetype": "text/x-python",
   "name": "python",
   "nbconvert_exporter": "python",
   "pygments_lexer": "ipython3",
   "version": "3.7.6"
  }
 },
 "nbformat": 4,
 "nbformat_minor": 4
}
