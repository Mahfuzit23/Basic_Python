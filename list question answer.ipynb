{
 "cells": [
  {
   "cell_type": "code",
   "execution_count": 1,
   "metadata": {},
   "outputs": [],
   "source": [
    "#take 2 list and marge them"
   ]
  },
  {
   "cell_type": "code",
   "execution_count": 2,
   "metadata": {},
   "outputs": [
    {
     "name": "stdout",
     "output_type": "stream",
     "text": [
      "['like', 'love', 420, 4.2]\n",
      "['people', 'social', 444, 44.44]\n"
     ]
    }
   ],
   "source": [
    "list1 = [\"like\",\"love\",420,4.20]\n",
    "print(list1)\n",
    "list2 = [\"people\",\"social\", 444,44.44]\n",
    "print(list2)"
   ]
  },
  {
   "cell_type": "code",
   "execution_count": 3,
   "metadata": {},
   "outputs": [
    {
     "name": "stdout",
     "output_type": "stream",
     "text": [
      "['like', 'love', 420, 4.2, 'people', 'social', 444, 44.44]\n"
     ]
    }
   ],
   "source": [
    "list1.extend(list2)\n",
    "print(list1)"
   ]
  },
  {
   "cell_type": "code",
   "execution_count": 4,
   "metadata": {},
   "outputs": [
    {
     "name": "stdout",
     "output_type": "stream",
     "text": [
      "['happy', 'peace', 555, 55.66]\n",
      "['happy', 'peace', 555, 55.66, 'thanks']\n"
     ]
    }
   ],
   "source": [
    "#take a list and insert a element in position 4 of the list.\n",
    "list3 = [\"happy\", \"peace\",555,55.66]\n",
    "print(list3)\n",
    "list3.append(\"thanks\")\n",
    "print(list3)"
   ]
  },
  {
   "cell_type": "code",
   "execution_count": 5,
   "metadata": {},
   "outputs": [
    {
     "name": "stdout",
     "output_type": "stream",
     "text": [
      "['happy', 'peace', 555, 55.66, 'verygood', 'thanks']\n"
     ]
    }
   ],
   "source": [
    "list3.insert(4,\"verygood\")\n",
    "print(list3)"
   ]
  },
  {
   "cell_type": "code",
   "execution_count": 6,
   "metadata": {},
   "outputs": [],
   "source": [
    "#take two list and insert the first list to the second list \n",
    "#where each element should be the indivisul elements of the second list"
   ]
  },
  {
   "cell_type": "code",
   "execution_count": 8,
   "metadata": {},
   "outputs": [
    {
     "name": "stdout",
     "output_type": "stream",
     "text": [
      "['orange', 'lemon', 88, 8.8]\n",
      "['sweet', 'honey', 999, 99.0]\n",
      "['orange', 'lemon', 88, 8.8, ['sweet', 'honey', 999, 99.0]]\n"
     ]
    }
   ],
   "source": [
    "list4 = [\"orange\",\"lemon\",88,8.8]\n",
    "print(list4)\n",
    "list5 = [\"sweet\",\"honey\",999,99.00]\n",
    "print(list5)\n",
    "list4.append(list5)\n",
    "print(list4)"
   ]
  },
  {
   "cell_type": "code",
   "execution_count": null,
   "metadata": {},
   "outputs": [],
   "source": []
  }
 ],
 "metadata": {
  "kernelspec": {
   "display_name": "Python 3",
   "language": "python",
   "name": "python3"
  },
  "language_info": {
   "codemirror_mode": {
    "name": "ipython",
    "version": 3
   },
   "file_extension": ".py",
   "mimetype": "text/x-python",
   "name": "python",
   "nbconvert_exporter": "python",
   "pygments_lexer": "ipython3",
   "version": "3.7.6"
  }
 },
 "nbformat": 4,
 "nbformat_minor": 4
}
