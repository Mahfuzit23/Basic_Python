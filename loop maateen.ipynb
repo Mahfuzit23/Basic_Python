{
 "cells": [
  {
   "cell_type": "code",
   "execution_count": null,
   "metadata": {},
   "outputs": [],
   "source": [
    "n = 1\n",
    "while(n <= 12):\n",
    "    print(n)\n",
    "    n = n+1\n"
   ]
  },
  {
   "cell_type": "code",
   "execution_count": null,
   "metadata": {},
   "outputs": [],
   "source": [
    "# ১ থেকে ১০০ পর্যন্ত সংখ্যাগুলোকে যোগ .\n",
    "n = 1\n",
    "sum = 0\n",
    "while(n <= 100):\n",
    "    sum = sum + n\n",
    "    n = n + 1\n",
    "print(sum)"
   ]
  },
  {
   "cell_type": "code",
   "execution_count": null,
   "metadata": {},
   "outputs": [],
   "source": [
    "n  = 100\n",
    "sum = n*(n+1)\n",
    "sum = sum/2\n",
    "print(sum)"
   ]
  },
  {
   "cell_type": "code",
   "execution_count": null,
   "metadata": {},
   "outputs": [],
   "source": [
    "a = [\"apple\",\"orange\",\"banana\",\"ananas\"]\n",
    "print(type(a))\n",
    "for item in a:\n",
    "    print(item)\n",
    "    "
   ]
  },
  {
   "cell_type": "code",
   "execution_count": null,
   "metadata": {},
   "outputs": [],
   "source": [
    "a = {\"name\":\"mahfuz\",\"phn\":\"3891766193\",\"country\":\"bangladesh\"}\n",
    "print(type(a))\n",
    "for item in a:\n",
    "    print(item)"
   ]
  },
  {
   "cell_type": "code",
   "execution_count": null,
   "metadata": {},
   "outputs": [],
   "source": [
    "a = (\"MAHFUZ\")\n",
    "for letter in a:\n",
    "    print(letter,end=\" \")"
   ]
  },
  {
   "cell_type": "code",
   "execution_count": null,
   "metadata": {},
   "outputs": [],
   "source": [
    "for item in range(1,11):\n",
    "    print(item,end=\" \")\n"
   ]
  },
  {
   "cell_type": "code",
   "execution_count": null,
   "metadata": {},
   "outputs": [],
   "source": [
    "range (5)\n",
    "list(range(5))\n"
   ]
  },
  {
   "cell_type": "code",
   "execution_count": null,
   "metadata": {},
   "outputs": [],
   "source": [
    "range(5,21)\n",
    "list(range(5,21))"
   ]
  },
  {
   "cell_type": "code",
   "execution_count": null,
   "metadata": {},
   "outputs": [],
   "source": [
    "range(5,20,2)\n",
    "list(range(5,20,2))"
   ]
  },
  {
   "cell_type": "code",
   "execution_count": null,
   "metadata": {},
   "outputs": [],
   "source": [
    "# break continue pass\n",
    "for numb in range(1,51):\n",
    "    if numb == 11:\n",
    "        break\n",
    "    print(numb, end=\" \")"
   ]
  },
  {
   "cell_type": "code",
   "execution_count": null,
   "metadata": {},
   "outputs": [],
   "source": [
    "for numb in range(1,11):\n",
    "    if numb == 5:\n",
    "        continue\n",
    "    print(numb,end=\" \")"
   ]
  },
  {
   "cell_type": "code",
   "execution_count": null,
   "metadata": {},
   "outputs": [],
   "source": [
    "for numb in range(1,11):\n",
    "    if numb == 6:\n",
    "        pass\n",
    "    print(numb,end=\" \")"
   ]
  },
  {
   "cell_type": "code",
   "execution_count": null,
   "metadata": {},
   "outputs": [],
   "source": [
    "# else in loop\n",
    "n = 1\n",
    "while n <= 10:\n",
    "    print(n,end=\" \")\n",
    "    n = n + 1\n",
    "else:\n",
    "    print(\"the loop is over.\")"
   ]
  },
  {
   "cell_type": "code",
   "execution_count": null,
   "metadata": {},
   "outputs": [],
   "source": [
    "for n in range(0,11,1):\n",
    "    print(n,end=\" \")\n",
    "else:\n",
    "    print(\"the loop is over.\")"
   ]
  },
  {
   "cell_type": "code",
   "execution_count": null,
   "metadata": {},
   "outputs": [],
   "source": [
    "#infinite loop\n",
    "i = 1\n",
    "#while i > 0:\n",
    "    print(i)\n",
    "    i+=1"
   ]
  },
  {
   "cell_type": "code",
   "execution_count": null,
   "metadata": {},
   "outputs": [],
   "source": [
    "# multiflication table of n\n",
    "n = int(input(\"input the number: \"))\n",
    "i = 1\n",
    "while i <= 10:\n",
    "    print(n, \"*\",i,\"=\",n*i)\n",
    "    i+=1"
   ]
  },
  {
   "cell_type": "code",
   "execution_count": null,
   "metadata": {},
   "outputs": [],
   "source": [
    "number = 8\n",
    "i = 1\n",
    "while i <= 10:\n",
    "    print(\"%d * %d = %d:\"%(number,i,number*i))\n",
    "    i+=1"
   ]
  },
  {
   "cell_type": "code",
   "execution_count": null,
   "metadata": {},
   "outputs": [],
   "source": [
    "# ১ থেকে ১০০ পর্যন্ত যেসব সংখ্যা ৩ দ্বারা নিঃশেষে বিভাজ্য কিন্তু ৫ দ্বারা নয়, তাদের লিস্ট আউটপুট হিসেবে দেখাতে হবে।\n",
    "list = []\n",
    "for i in range(1,101,1):\n",
    "    if i%3 == 0 and i%5 != 0:\n",
    "        list.append(i)\n",
    "print(list)"
   ]
  },
  {
   "cell_type": "code",
   "execution_count": null,
   "metadata": {},
   "outputs": [],
   "source": [
    "lst = [(\"my list is: \")]\n",
    "for i in range(1,51):\n",
    "    if(i % 3) == 0 and (i % 5) != 0:\n",
    "        lst.append(i)\n",
    "print(lst)"
   ]
  },
  {
   "cell_type": "code",
   "execution_count": null,
   "metadata": {},
   "outputs": [],
   "source": [
    "a = [11,22,33,44,55,66,77,88,99,12,13,15,17]\n",
    "lst1 = []\n",
    "for i in a:\n",
    "    if i < 50:\n",
    "        lst1.append(i)\n",
    "print(lst1)"
   ]
  },
  {
   "cell_type": "code",
   "execution_count": null,
   "metadata": {},
   "outputs": [],
   "source": [
    "a = [33,55,44,77,88,99,11,15,36,27,28,]\n",
    "my_list = []\n",
    "for i in a:\n",
    "    if i < 50:\n",
    "        my_list.append(i)\n",
    "print(my_list)\n",
    "    \n"
   ]
  },
  {
   "cell_type": "code",
   "execution_count": null,
   "metadata": {},
   "outputs": [],
   "source": [
    "# ইউজার একটা পূর্ণসংখ্যা ইনপুট দেবে। সেটির ওপর ভিত্তি করে আমরা *এর স্কয়ার ডিজাইন করব।"
   ]
  },
  {
   "cell_type": "code",
   "execution_count": null,
   "metadata": {},
   "outputs": [],
   "source": [
    "number = int(input(\"enter the number: \"))\n",
    "number2 = int(input(\"enter the number2\"))\n",
    "i = 1\n",
    "j = 1\n",
    "while i <= number:\n",
    "    j = 1\n",
    "    while j <= number2:\n",
    "        print(\"*\",end=\" \")\n",
    "        j = j + 1\n",
    "    \n",
    "    print()\n",
    "    i = i + 1"
   ]
  },
  {
   "cell_type": "code",
   "execution_count": null,
   "metadata": {},
   "outputs": [],
   "source": [
    "num = int(input(\"enter the num: \"))\n",
    "for i in range(num):\n",
    "    for j in range(num):\n",
    "        print(\"*\",end=\" \")\n",
    "    print()"
   ]
  },
  {
   "cell_type": "code",
   "execution_count": null,
   "metadata": {},
   "outputs": [],
   "source": [
    "num = int(input(\"enter the num: \"))\n",
    "for i in range(num):\n",
    "    print(\"* \"*num)"
   ]
  },
  {
   "cell_type": "code",
   "execution_count": null,
   "metadata": {},
   "outputs": [],
   "source": [
    "num = int(input(\"enter the number: \"))\n",
    "sum = num\n",
    "while num > 0:\n",
    "    sum1 = sum\n",
    "    while sum1 > 0:\n",
    "        print(\"*\",end=\" \")\n",
    "        sum1 = sum1 - 1\n",
    "    print()\n",
    "    num = num - 1"
   ]
  },
  {
   "cell_type": "code",
   "execution_count": null,
   "metadata": {},
   "outputs": [],
   "source": [
    "word = input()\n",
    "word = word.casefold()\n",
    "reversed_word = word[::-1]\n",
    "if word == reversed_word:\n",
    "    print(\"great it is a pallindrome\")\n",
    "else:\n",
    "    print(\"lol! it is not pallindrome: \")"
   ]
  },
  {
   "cell_type": "code",
   "execution_count": 5,
   "metadata": {},
   "outputs": [
    {
     "name": "stdout",
     "output_type": "stream",
     "text": [
      "enter a string: madam\n",
      "great!it is a palindrome\n"
     ]
    }
   ],
   "source": [
    "# ইউজার একটি শব্দ ইনপুট দেবে। আমাদের প্রোগ্রাম দেখবে সেটি একটি প্যালিনড্রোম (Palindrome) কি না!\n",
    "word = input(\"enter a string: \")\n",
    "reverse = word[::-1]\n",
    "if reverse == word:\n",
    "    print(\"great!it is a palindrome\")\n",
    "else:\n",
    "    print(\"lol! it is not palindrome\")"
   ]
  },
  {
   "cell_type": "code",
   "execution_count": 4,
   "metadata": {},
   "outputs": [
    {
     "name": "stdout",
     "output_type": "stream",
     "text": [
      "enter the elements: ama\n",
      "great! it is a palindrom: \n"
     ]
    }
   ],
   "source": [
    "word = input(\"enter the elements: \")\n",
    "word = word.casefold()\n",
    "reversed = word[::-1]\n",
    "if word == reversed:\n",
    "    print(\"great! it is a palindrom: \")\n",
    "else:\n",
    "    print(\"lol! it is not a palindrom: \")"
   ]
  },
  {
   "cell_type": "code",
   "execution_count": null,
   "metadata": {},
   "outputs": [],
   "source": [
    "# এই তালিকা থেকে ইউজারের ইনপুট দেওয়া নির্দিষ্ট একটি সংখ্যা  সার্চ করে বের করতে হবে। এ আর কঠিন কী!\n",
    "my_list = [1,2,3,4,5,6,7,8,9,10]\n",
    "element = int(input(\"enter the element: \"))\n",
    "sum = 0\n",
    "for i in my_list:\n",
    "    if i == element:\n",
    "        print(\"element found\")\n",
    "        sum = 1\n",
    "        break\n",
    "else:\n",
    "    print(\"element not found\")\n"
   ]
  },
  {
   "cell_type": "code",
   "execution_count": 7,
   "metadata": {},
   "outputs": [
    {
     "name": "stdout",
     "output_type": "stream",
     "text": [
      "[11, 22, 33, 44, 555, 66, 77, 88, 99, 1010]\n"
     ]
    }
   ],
   "source": [
    "# এই তালিকা থেকে সকল ডুপ্লিকেট (duplicate) ভ্যালু রিমুভ করতে হবে।\n",
    "a = [11,22,33,44,555,66,77,66,77,88,99,11,22,33,44,1010]\n",
    "my_list = []\n",
    "for i in a:\n",
    "    if i not in my_list:\n",
    "        my_list.append(i)\n",
    "print(my_list)\n",
    "    "
   ]
  },
  {
   "cell_type": "code",
   "execution_count": 10,
   "metadata": {},
   "outputs": [
    {
     "name": "stdout",
     "output_type": "stream",
     "text": [
      "55\n"
     ]
    }
   ],
   "source": [
    "# লুপ ব্যবহার করে ১ থেকে ১০০ পর্যন্ত পূর্ণসংখ্যাগুলোর সমষ্টি বের করতে হবে।\n",
    "i = 1\n",
    "total = 0\n",
    "while(i <= 10):\n",
    "    total += i\n",
    "    i += 1\n",
    "print(total)"
   ]
  },
  {
   "cell_type": "code",
   "execution_count": 11,
   "metadata": {},
   "outputs": [
    {
     "name": "stdout",
     "output_type": "stream",
     "text": [
      "1 \n",
      "\n",
      "1 2 \n",
      "\n",
      "1 2 3 \n",
      "\n",
      "1 2 3 4 \n",
      "\n",
      "1 2 3 4 5 \n",
      "\n"
     ]
    }
   ],
   "source": [
    " i = 1\n",
    "\n",
    " while(i<=5):\n",
    "   j = 1\n",
    "   while(j<=i):\n",
    "     print(j, end=' ')\n",
    "     j+=1\n",
    "   print('\\n')\n",
    "   i+=1"
   ]
  },
  {
   "cell_type": "code",
   "execution_count": 18,
   "metadata": {},
   "outputs": [
    {
     "name": "stdout",
     "output_type": "stream",
     "text": [
      "5\n",
      "\n",
      "* \n",
      "* * \n",
      "* * * \n",
      "* * * * \n"
     ]
    }
   ],
   "source": [
    "# ২) ইউজার একটা পূর্ণসংখ্যা ইনপুট দেবে। সেটির ওপর ভিত্তি করে আমরা *এর ত্রিভুজ ডিজাইন করব।\n",
    "num = int(input())\n",
    "i = 1\n",
    "while i <= num:\n",
    "    star = 1\n",
    "    while star < i:\n",
    "        print(\"*\",end=\" \")\n",
    "        star += 1\n",
    "    print()\n",
    "    i += 1"
   ]
  },
  {
   "cell_type": "code",
   "execution_count": 1,
   "metadata": {},
   "outputs": [
    {
     "name": "stdout",
     "output_type": "stream",
     "text": [
      "enter the number of rows: 5\n",
      "* \n",
      "* * \n",
      "* * * \n",
      "* * * * \n",
      "* * * * * \n"
     ]
    }
   ],
   "source": [
    "num = int(input(\"enter the number of rows: \"))\n",
    "row = 0\n",
    "while(row < num):\n",
    "    star = row + 1\n",
    "    while(star > 0):\n",
    "        print(\"*\",end=\" \")\n",
    "        star -= 1\n",
    "    row += 1\n",
    "    print()"
   ]
  },
  {
   "cell_type": "code",
   "execution_count": 7,
   "metadata": {},
   "outputs": [
    {
     "name": "stdout",
     "output_type": "stream",
     "text": [
      "*     *\n",
      "**   **\n",
      "* * * *\n",
      "*  *  *\n",
      "*     *\n",
      "*     *\n",
      "*     *\n"
     ]
    }
   ],
   "source": [
    "for row in range(7):\n",
    "    for col in range(7):\n",
    "        if col==0 or col==6 or ((row==col) and (col>0 and col<4)) or (row==1 and col==5) or (row==2 and col == 4):\n",
    "            print (\"*\",end=\"\")\n",
    "        else:\n",
    "            print (end=\" \")\n",
    "    print ()"
   ]
  },
  {
   "cell_type": "code",
   "execution_count": 12,
   "metadata": {},
   "outputs": [
    {
     "data": {
      "text/plain": [
       "16"
      ]
     },
     "execution_count": 12,
     "metadata": {},
     "output_type": "execute_result"
    }
   ],
   "source": [
    "2**3"
   ]
  },
  {
   "cell_type": "code",
   "execution_count": null,
   "metadata": {},
   "outputs": [],
   "source": []
  }
 ],
 "metadata": {
  "kernelspec": {
   "display_name": "Python 3",
   "language": "python",
   "name": "python3"
  },
  "language_info": {
   "codemirror_mode": {
    "name": "ipython",
    "version": 3
   },
   "file_extension": ".py",
   "mimetype": "text/x-python",
   "name": "python",
   "nbconvert_exporter": "python",
   "pygments_lexer": "ipython3",
   "version": "3.7.6"
  }
 },
 "nbformat": 4,
 "nbformat_minor": 4
}
